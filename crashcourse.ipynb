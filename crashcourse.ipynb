{
 "cells": [
  {
   "cell_type": "code",
   "execution_count": 1,
   "metadata": {},
   "outputs": [],
   "source": [
    "#INTRODUCTION\n",
    "# Greetings everyone. This is Yash Singh from CSE IInd sem. This session is going to incorporate a crash course of the Python programming language. This however isn’t going to be an overhaul of the entire language – but just an overview of it and how well it translates to the user. If you're a beginner - I would sincerely recommend trying out logistics and algorithm understanding in a more low level language like C or C++ before you start with python - especially in the field of data science. So, before beginning, there's an important clearance that people with understanding of the basics should only attend it. However, if you are well versed with the code base of any language and the paradigm the execution data follows, you'll be well onboard with it. If you already have some understanding of python, and have coded in it, feel free to interrupt me in between and correct me where I might be going wrong. For the learners here, if you got any doubts, you can cut in between and shoot your queries."
   ]
  },
  {
   "cell_type": "code",
   "execution_count": 4,
   "metadata": {},
   "outputs": [],
   "source": [
    "# To begin with - we'll be covering these aspects of Python programming -\n",
    "# Numbers\n",
    "# Strings\n",
    "# Formatted Output\n",
    "# Lists\n",
    "# Dictionaries\n",
    "# Booleans\n",
    "# Tuples and Sets\n",
    "# Comparison Operators\n",
    "# Control structures - if-else\n",
    "# Iterations - for, while\n",
    "# range function\n",
    "# Lists comprehension and output console\n",
    "# Functions\n",
    "# Lambda Expressions\n",
    "# Map function\n",
    "# Filter function\n",
    "\n",
    "# I might go out of order in between, either to cover an essential aspect or just to elaborate the relations between some of these fields. However, I'll try to ensure that everything is well addressed."
   ]
  },
  {
   "cell_type": "code",
   "execution_count": 7,
   "metadata": {},
   "outputs": [],
   "source": [
    "# Now we shall go over the basics and configurations to begin with this session. Before I start, I want to ensure that all of you have anaconda-python 3 setup on your system along with any code editor of your choice - preferably VSCode. Make sure that you turn off telemetry if you're using VSCode. That's just a step towards user data privacy. Now, once you have both these tools configured/setup properly, what you're going to want to do is make sure anaconda is in your PATH variable. In linux, you can simply do this by exporting the PATH as export PATH=${PATH}:/<location>. And try not to use relative paths. Try to use absolute path. In windows, there might be a way to change path variable from settings > although I am not too familiar with it.\n",
    "# Eitherways, once you're done with that, start VSCode. And press Ctrl + Shift + P, and search for interpreter like me. Now don't pick the default python base which might be installed on your system. But go ahead, and from the list, choose the anaconda environment. Now, Again, press Ctrl + Shift + P for the VSCode prompt and search jupyter notebook. Click on this highlight, and it will start building up your notebook. It may take some time to initialize anaconda environment - to a max of about 5 mins on slower machines. But cmoparatively, it should be fast - especially on a linux file system because of much comprehensive tracker balancing. Once this is done, you'll get your cell - or the code cell, this is where you're supposed to write code, and then we'll guide you through the shortcuts which are comprehensively essential if you're going to be working with jupyter notebooks.\n",
    "# Now, another way to create and manage a notebook is by actually instantiating it beforehand, and then starting it with VSCode. Now, open your terminal inside VSCode (or powershell if you're a windows user) by pressing Ctrl + back ticks or the tilde sign which should be the first key on the second row of your computer. ALternatively, you can again goto console using Ctrl + Shift + P and type terminal, and it should open up the same. Then navigate to the desired directory where you want to create this project, and then type touch <filename>.ipynb which is the extension of any jupyter notebook. Note that we are using jupyter rather than a file based approach or directly the console just because it's more convenient for beginners to understand, and jupyter is quite interactive to the point where it returns to the user - the console output without a print statement. We'll see how that works in just a while. Now, once you've done that, you can either drag and drop that file from your file explorer to the VSCode editor, or you can simply do code <filename>.ipynb and it should open that up in your editor. Note that, this again might take a little while if anaconda daemon is not already active on your system, as it requires some time to start the jupyter server and activation python kernel. That is something we'll talk about later in perhaps another session where we deal with activation functions and kernel management. Now that we've our file ready in front of us, let's begin with the first line of code."
   ]
  },
  {
   "cell_type": "code",
   "execution_count": 8,
   "metadata": {},
   "outputs": [],
   "source": [
    "# We'll start over with the numbers and then continue.\n",
    "# Here, to execute a cell of code, we press Ctrl + Enter or Command + Enter on mac. To run the current cell and goto the next cell or create a new cell, we press Shift + Enter or Command + Shift + Enter on Mac. To run the current cell and insert a new cell just below it, we use Alt + Enter or Command + Alt + Enter on Mac. Having that out of the way, let's begin"
   ]
  },
  {
   "cell_type": "code",
   "execution_count": 10,
   "metadata": {},
   "outputs": [],
   "source": [
    "# Let's start with basic arithmetic. Python has only two number type - int and float\n",
    "# You can just write things that output directly to the console. Like for an integer"
   ]
  },
  {
   "cell_type": "code",
   "execution_count": 11,
   "metadata": {},
   "outputs": [
    {
     "output_type": "execute_result",
     "data": {
      "text/plain": "1"
     },
     "metadata": {},
     "execution_count": 11
    }
   ],
   "source": [
    "1 # It will give the integer here to the console system."
   ]
  },
  {
   "cell_type": "code",
   "execution_count": 12,
   "metadata": {},
   "outputs": [
    {
     "output_type": "execute_result",
     "data": {
      "text/plain": "1.0"
     },
     "metadata": {},
     "execution_count": 12
    }
   ],
   "source": [
    "1.0 # This will give the float to the console system."
   ]
  },
  {
   "cell_type": "code",
   "execution_count": 18,
   "metadata": {},
   "outputs": [
    {
     "output_type": "execute_result",
     "data": {
      "text/plain": "2.5"
     },
     "metadata": {},
     "execution_count": 18
    }
   ],
   "source": [
    "# Now one thing to note in Python which may be seemingly unlike other languages, since python uses dynamic data types, it prefers floating division compared to other languages or it's own predeessor Python 2. What that means is, normally when we run let's say \n",
    "5 / 2"
   ]
  },
  {
   "cell_type": "code",
   "execution_count": 17,
   "metadata": {},
   "outputs": [
    {
     "output_type": "execute_result",
     "data": {
      "text/plain": "2"
     },
     "metadata": {},
     "execution_count": 17
    }
   ],
   "source": [
    "# It should give us the value of 2, but it's giving 2.5 - which is a float, and unlike a majority of other languages. Now to do integer division in python, we have to use a slightly different approach here.\n",
    "5 // 2"
   ]
  },
  {
   "cell_type": "code",
   "execution_count": 19,
   "metadata": {},
   "outputs": [],
   "source": [
    "# This will do a recurring integer division and the moment it reaches decimal, it will tend to cancel out the scope beyond that, and return the integer equivalent."
   ]
  },
  {
   "cell_type": "code",
   "execution_count": 20,
   "metadata": {},
   "outputs": [
    {
     "output_type": "execute_result",
     "data": {
      "text/plain": "3"
     },
     "metadata": {},
     "execution_count": 20
    }
   ],
   "source": [
    "# For basic sum, we can do\n",
    "1 + 2"
   ]
  },
  {
   "cell_type": "code",
   "execution_count": 21,
   "metadata": {},
   "outputs": [
    {
     "output_type": "execute_result",
     "data": {
      "text/plain": "12"
     },
     "metadata": {},
     "execution_count": 21
    }
   ],
   "source": [
    "# Which will give us the output. For product, it's again\n",
    "3 * 4"
   ]
  },
  {
   "cell_type": "code",
   "execution_count": 22,
   "metadata": {},
   "outputs": [
    {
     "output_type": "execute_result",
     "data": {
      "text/plain": "0"
     },
     "metadata": {},
     "execution_count": 22
    }
   ],
   "source": [
    "# Which returns 12. For remainders again, this is very similar or native to any other programming approach, for example\n",
    "12 % 3"
   ]
  },
  {
   "cell_type": "code",
   "execution_count": 23,
   "metadata": {},
   "outputs": [
    {
     "output_type": "execute_result",
     "data": {
      "text/plain": "16"
     },
     "metadata": {},
     "execution_count": 23
    }
   ],
   "source": [
    "# Which returns 0 as usual. Now to calculate the exponential, python uses an operator instead of a library function to deal with it. Let's say we have to calculate 2 raised to the power 4, then we can simply do\n",
    "2 ** 4"
   ]
  },
  {
   "cell_type": "code",
   "execution_count": 24,
   "metadata": {},
   "outputs": [
    {
     "output_type": "execute_result",
     "data": {
      "text/plain": "20"
     },
     "metadata": {},
     "execution_count": 24
    }
   ],
   "source": [
    "# Which will essentially multiple 2 to itself 4 times and give 16.\n",
    "# Like other programming languages, python follows order or precedence, and we can enhance the scope with the help of parentheses. Mathematically :\n",
    "(2 + 3) * 4"
   ]
  },
  {
   "cell_type": "code",
   "execution_count": 25,
   "metadata": {},
   "outputs": [],
   "source": [
    "# Which does 2 + 3 = 5 multiplied by 4 giving 20"
   ]
  },
  {
   "cell_type": "code",
   "execution_count": 26,
   "metadata": {},
   "outputs": [],
   "source": [
    "# Now for variables, as I already said, python deals with dynamic data types, so any variable name can be assigned any type of data as long as it's ensured that the overrides aren't otherwise restricted. Normally, we can do\n",
    "x = \"Hello\""
   ]
  },
  {
   "cell_type": "code",
   "execution_count": 27,
   "metadata": {},
   "outputs": [
    {
     "output_type": "execute_result",
     "data": {
      "text/plain": "'HelloHello'"
     },
     "metadata": {},
     "execution_count": 27
    }
   ],
   "source": [
    "# And now x stores hello, but since this line of code isn't returning anything to the console, jupyter doesn't outputs anything. However, now we can perform calculations based on this. For example\n",
    "x + x"
   ]
  },
  {
   "cell_type": "code",
   "execution_count": 28,
   "metadata": {},
   "outputs": [
    {
     "output_type": "execute_result",
     "data": {
      "text/plain": "46656"
     },
     "metadata": {},
     "execution_count": 28
    }
   ],
   "source": [
    "x = 6\n",
    "x ** x"
   ]
  },
  {
   "cell_type": "code",
   "execution_count": 29,
   "metadata": {},
   "outputs": [],
   "source": [
    "# Now, like many languages, you cannot start off your variable name with numbers or special characters. It should normally start with a lowercase word although uppercase isn't an issue either. Now, let's start with strings."
   ]
  },
  {
   "cell_type": "code",
   "execution_count": 30,
   "metadata": {},
   "outputs": [],
   "source": [
    "#Now, anything that we write after a # is a comment."
   ]
  },
  {
   "cell_type": "code",
   "execution_count": 31,
   "metadata": {},
   "outputs": [],
   "source": [
    "# There are two ways to create a string. First is to use single quotes, and second to use double quotes. The only essential difference is the use case you put it up to. Now, let's say you're aware that your string is going to use a lot of single quotes, in that case, enclose the string within double quotes, what that will do is basically override single quote's operator rule as a basic character. And then you can use it within. Same goes for single quotes - when you've to use double quotes. \n",
    "st = 'Hello \"Sir\", please come in'"
   ]
  },
  {
   "cell_type": "code",
   "execution_count": 32,
   "metadata": {},
   "outputs": [],
   "source": [
    "st = \"Hello 'sir', please come in\""
   ]
  },
  {
   "cell_type": "code",
   "execution_count": 33,
   "metadata": {},
   "outputs": [],
   "source": [
    "# Now in cases, where you have to use both of em, it's idea to just pick the one with the lesser count, and escape the other character as :\n",
    "st = 'Hello \\'Sir, how are you doing\\''"
   ]
  },
  {
   "cell_type": "code",
   "execution_count": null,
   "metadata": {},
   "outputs": [],
   "source": [
    "# For both the preceding and succeeding single quotes, we escaped it using backslash."
   ]
  }
 ],
 "metadata": {
  "language_info": {
   "codemirror_mode": {
    "name": "ipython",
    "version": 3
   },
   "file_extension": ".py",
   "mimetype": "text/x-python",
   "name": "python",
   "nbconvert_exporter": "python",
   "pygments_lexer": "ipython3",
   "version": "3.7.6-final"
  },
  "orig_nbformat": 2,
  "kernelspec": {
   "name": "python3",
   "display_name": "Python 3"
  }
 },
 "nbformat": 4,
 "nbformat_minor": 2
}