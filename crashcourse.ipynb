{
 "cells": [
  {
   "cell_type": "code",
   "execution_count": 1,
   "metadata": {},
   "outputs": [],
   "source": [
    "#INTRODUCTION\n",
    "# Greetings everyone. This is Yash Singh from CSE IInd sem. This session is going to incorporate a crash course of the Python programming language. This however isn’t going to be an overhaul of the entire language – but just an overview of it and how well it translates to the user. If you're a beginner - I would sincerely recommend trying out logistics and algorithm understanding in a more low level language like C or C++ before you start with python - especially in the field of data science. So, before beginning, there's an important clearance that people with understanding of the basics should only attend it. However, if you are well versed with the code base of any language and the paradigm the execution data follows, you'll be well onboard with it. If you already have some understanding of python, and have coded in it, feel free to interrupt me in between and correct me where I might be going wrong. For the learners here, if you got any doubts, you can cut in between and shoot your queries."
   ]
  },
  {
   "cell_type": "code",
   "execution_count": 4,
   "metadata": {},
   "outputs": [],
   "source": [
    "# To begin with - we'll be covering these aspects of Python programming -\n",
    "# Numbers\n",
    "# Strings\n",
    "# Formatted Output\n",
    "# Lists\n",
    "# Dictionaries\n",
    "# Booleans\n",
    "# Tuples and Sets\n",
    "# Comparison Operators\n",
    "# Control structures - if-else\n",
    "# Iterations - for, while\n",
    "# range function\n",
    "# Lists comprehension and output console\n",
    "# Functions\n",
    "# Lambda Expressions\n",
    "# Map function\n",
    "# Filter function\n",
    "\n",
    "# I might go out of order in between, either to cover an essential aspect or just to elaborate the relations between some of these fields. However, I'll try to ensure that everything is well addressed."
   ]
  },
  {
   "cell_type": "code",
   "execution_count": 7,
   "metadata": {},
   "outputs": [],
   "source": [
    "# Now we shall go over the basics and configurations to begin with this session. Before I start, I want to ensure that all of you have anaconda-python 3 setup on your system along with any code editor of your choice - preferably VSCode. Make sure that you turn off telemetry if you're using VSCode. That's just a step towards user data privacy. Now, once you have both these tools configured/setup properly, what you're going to want to do is make sure anaconda is in your PATH variable. In linux, you can simply do this by exporting the PATH as export PATH=${PATH}:/<location>. And try not to use relative paths. Try to use absolute path. In windows, there might be a way to change path variable from settings > although I am not too familiar with it.\n",
    "# Eitherways, once you're done with that, start VSCode. And press Ctrl + Shift + P, and search for interpreter like me. Now don't pick the default python base which might be installed on your system. But go ahead, and from the list, choose the anaconda environment. Now, Again, press Ctrl + Shift + P for the VSCode prompt and search jupyter notebook. Click on this highlight, and it will start building up your notebook. It may take some time to initialize anaconda environment - to a max of about 5 mins on slower machines. But cmoparatively, it should be fast - especially on a linux file system because of much comprehensive tracker balancing. Once this is done, you'll get your cell - or the code cell, this is where you're supposed to write code, and then we'll guide you through the shortcuts which are comprehensively essential if you're going to be working with jupyter notebooks.\n",
    "# Now, another way to create and manage a notebook is by actually instantiating it beforehand, and then starting it with VSCode. Now, open your terminal inside VSCode (or powershell if you're a windows user) by pressing Ctrl + back ticks or the tilde sign which should be the first key on the second row of your computer. ALternatively, you can again goto console using Ctrl + Shift + P and type terminal, and it should open up the same. Then navigate to the desired directory where you want to create this project, and then type touch <filename>.ipynb which is the extension of any jupyter notebook. Note that we are using jupyter rather than a file based approach or directly the console just because it's more convenient for beginners to understand, and jupyter is quite interactive to the point where it returns to the user - the console output without a print statement. We'll see how that works in just a while. Now, once you've done that, you can either drag and drop that file from your file explorer to the VSCode editor, or you can simply do code <filename>.ipynb and it should open that up in your editor. Note that, this again might take a little while if anaconda daemon is not already active on your system, as it requires some time to start the jupyter server and activation python kernel. That is something we'll talk about later in perhaps another session where we deal with activation functions and kernel management. Now that we've our file ready in front of us, let's begin with the first line of code."
   ]
  },
  {
   "cell_type": "code",
   "execution_count": 8,
   "metadata": {},
   "outputs": [],
   "source": [
    "# We'll start over with the numbers and then continue.\n",
    "# Here, to execute a cell of code, we press Ctrl + Enter or Command + Enter on mac. To run the current cell and goto the next cell or create a new cell, we press Shift + Enter or Command + Shift + Enter on Mac. To run the current cell and insert a new cell just below it, we use Alt + Enter or Command + Alt + Enter on Mac. Having that out of the way, let's begin"
   ]
  },
  {
   "cell_type": "code",
   "execution_count": 10,
   "metadata": {},
   "outputs": [],
   "source": [
    "# Let's start with basic arithmetic. Python has only two number type - int and float\n",
    "# You can just write things that output directly to the console. Like for an integer"
   ]
  },
  {
   "cell_type": "code",
   "execution_count": 11,
   "metadata": {},
   "outputs": [
    {
     "output_type": "execute_result",
     "data": {
      "text/plain": "1"
     },
     "metadata": {},
     "execution_count": 11
    }
   ],
   "source": [
    "1 # It will give the integer here to the console system."
   ]
  },
  {
   "cell_type": "code",
   "execution_count": 12,
   "metadata": {},
   "outputs": [
    {
     "output_type": "execute_result",
     "data": {
      "text/plain": "1.0"
     },
     "metadata": {},
     "execution_count": 12
    }
   ],
   "source": [
    "1.0 # This will give the float to the console system."
   ]
  },
  {
   "cell_type": "code",
   "execution_count": 18,
   "metadata": {},
   "outputs": [
    {
     "output_type": "execute_result",
     "data": {
      "text/plain": "2.5"
     },
     "metadata": {},
     "execution_count": 18
    }
   ],
   "source": [
    "# Now one thing to note in Python which may be seemingly unlike other languages, since python uses dynamic data types, it prefers floating division compared to other languages or it's own predeessor Python 2. What that means is, normally when we run let's say \n",
    "5 / 2"
   ]
  },
  {
   "cell_type": "code",
   "execution_count": 17,
   "metadata": {},
   "outputs": [
    {
     "output_type": "execute_result",
     "data": {
      "text/plain": "2"
     },
     "metadata": {},
     "execution_count": 17
    }
   ],
   "source": [
    "# It should give us the value of 2, but it's giving 2.5 - which is a float, and unlike a majority of other languages. Now to do integer division in python, we have to use a slightly different approach here.\n",
    "5 // 2"
   ]
  },
  {
   "cell_type": "code",
   "execution_count": 19,
   "metadata": {},
   "outputs": [],
   "source": [
    "# This will do a recurring integer division and the moment it reaches decimal, it will tend to cancel out the scope beyond that, and return the integer equivalent."
   ]
  },
  {
   "cell_type": "code",
   "execution_count": 20,
   "metadata": {},
   "outputs": [
    {
     "output_type": "execute_result",
     "data": {
      "text/plain": "3"
     },
     "metadata": {},
     "execution_count": 20
    }
   ],
   "source": [
    "# For basic sum, we can do\n",
    "1 + 2"
   ]
  },
  {
   "cell_type": "code",
   "execution_count": 21,
   "metadata": {},
   "outputs": [
    {
     "output_type": "execute_result",
     "data": {
      "text/plain": "12"
     },
     "metadata": {},
     "execution_count": 21
    }
   ],
   "source": [
    "# Which will give us the output. For product, it's again\n",
    "3 * 4"
   ]
  },
  {
   "cell_type": "code",
   "execution_count": 22,
   "metadata": {},
   "outputs": [
    {
     "output_type": "execute_result",
     "data": {
      "text/plain": "0"
     },
     "metadata": {},
     "execution_count": 22
    }
   ],
   "source": [
    "# Which returns 12. For remainders again, this is very similar or native to any other programming approach, for example\n",
    "12 % 3"
   ]
  },
  {
   "cell_type": "code",
   "execution_count": 23,
   "metadata": {},
   "outputs": [
    {
     "output_type": "execute_result",
     "data": {
      "text/plain": "16"
     },
     "metadata": {},
     "execution_count": 23
    }
   ],
   "source": [
    "# Which returns 0 as usual. Now to calculate the exponential, python uses an operator instead of a library function to deal with it. Let's say we have to calculate 2 raised to the power 4, then we can simply do\n",
    "2 ** 4"
   ]
  },
  {
   "cell_type": "code",
   "execution_count": 24,
   "metadata": {},
   "outputs": [
    {
     "output_type": "execute_result",
     "data": {
      "text/plain": "20"
     },
     "metadata": {},
     "execution_count": 24
    }
   ],
   "source": [
    "# Which will essentially multiple 2 to itself 4 times and give 16.\n",
    "# Like other programming languages, python follows order or precedence, and we can enhance the scope with the help of parentheses. Mathematically :\n",
    "(2 + 3) * 4"
   ]
  },
  {
   "cell_type": "code",
   "execution_count": 25,
   "metadata": {},
   "outputs": [],
   "source": [
    "# Which does 2 + 3 = 5 multiplied by 4 giving 20"
   ]
  },
  {
   "cell_type": "code",
   "execution_count": 26,
   "metadata": {},
   "outputs": [],
   "source": [
    "# Now for variables, as I already said, python deals with dynamic data types, so any variable name can be assigned any type of data as long as it's ensured that the overrides aren't otherwise restricted. Normally, we can do\n",
    "x = \"Hello\""
   ]
  },
  {
   "cell_type": "code",
   "execution_count": 27,
   "metadata": {},
   "outputs": [
    {
     "output_type": "execute_result",
     "data": {
      "text/plain": "'HelloHello'"
     },
     "metadata": {},
     "execution_count": 27
    }
   ],
   "source": [
    "# And now x stores hello, but since this line of code isn't returning anything to the console, jupyter doesn't outputs anything. However, now we can perform calculations based on this. For example\n",
    "x + x"
   ]
  },
  {
   "cell_type": "code",
   "execution_count": 28,
   "metadata": {},
   "outputs": [
    {
     "output_type": "execute_result",
     "data": {
      "text/plain": "46656"
     },
     "metadata": {},
     "execution_count": 28
    }
   ],
   "source": [
    "x = 6\n",
    "x ** x"
   ]
  },
  {
   "cell_type": "code",
   "execution_count": 29,
   "metadata": {},
   "outputs": [],
   "source": [
    "# Now, like many languages, you cannot start off your variable name with numbers or special characters. It should normally start with a lowercase word although uppercase isn't an issue either. Now, let's start with strings."
   ]
  },
  {
   "cell_type": "code",
   "execution_count": 30,
   "metadata": {},
   "outputs": [],
   "source": [
    "#Now, anything that we write after a # is a comment."
   ]
  },
  {
   "cell_type": "code",
   "execution_count": 31,
   "metadata": {},
   "outputs": [],
   "source": [
    "# There are two ways to create a string. First is to use single quotes, and second to use double quotes. The only essential difference is the use case you put it up to. Now, let's say you're aware that your string is going to use a lot of single quotes, in that case, enclose the string within double quotes, what that will do is basically override single quote's operator rule as a basic character. And then you can use it within. Same goes for single quotes - when you've to use double quotes. \n",
    "st = 'Hello \"Sir\", please come in'"
   ]
  },
  {
   "cell_type": "code",
   "execution_count": 32,
   "metadata": {},
   "outputs": [],
   "source": [
    "st = \"Hello 'sir', please come in\""
   ]
  },
  {
   "cell_type": "code",
   "execution_count": 33,
   "metadata": {},
   "outputs": [],
   "source": [
    "# Now in cases, where you have to use both of em, it's idea to just pick the one with the lesser count, and escape the other character as :\n",
    "st = 'Hello \\'Sir, how are you doing\\''"
   ]
  },
  {
   "cell_type": "code",
   "execution_count": 34,
   "metadata": {
    "tags": []
   },
   "outputs": [
    {
     "output_type": "stream",
     "name": "stdout",
     "text": "Hello\n"
    }
   ],
   "source": [
    "# For both the preceding and succeeding single quotes, we escaped it using backslash.\n",
    "# Let's start with printing texts. In jupyter, as I discussed earlier, it just outputs to the console - which is printed for the user, however in a file based programming approach - which is the most standardized way of coding, the console wouldn't natively log to the output stream - which is visible to the user, in such cases, the print function is especially helpful to log something or prompt. Normally to print something, we use the function print within which any data value readable can be passed.\n",
    "print('Hello')"
   ]
  },
  {
   "cell_type": "code",
   "execution_count": 35,
   "metadata": {
    "tags": []
   },
   "outputs": [
    {
     "output_type": "stream",
     "name": "stdout",
     "text": "Hello 'Sir, how are you doing'\n"
    }
   ],
   "source": [
    "print(st)"
   ]
  },
  {
   "cell_type": "code",
   "execution_count": 36,
   "metadata": {
    "tags": []
   },
   "outputs": [
    {
     "output_type": "stream",
     "name": "stdout",
     "text": "My name is Yash and my lucky number is 100\n"
    }
   ],
   "source": [
    "# Let's define two variables :\n",
    "n = 100\n",
    "string = 'Yash'\n",
    "# Now to print this within a format, I would have to specify the order of formatting as here:\n",
    "print('My name is {} and my lucky number is {}'.format(string, n))"
   ]
  },
  {
   "cell_type": "code",
   "execution_count": 37,
   "metadata": {},
   "outputs": [],
   "source": [
    "# These empty curly braces are called memory value placeholders. when the format rule is called for a string (note that it's called inside the print function - and hence is not a sub-function call to the print function itself, but only to the string class objects), it fetches value from that variable's memory location, and passes it to the placeholder. Just consider this example, if you somehow enterchange n and string's order, instead of name it'll print your number and same goes for the number. So, the placeholders are loosely coded - which means they can be transpiled to any data type which is supported by the output stream."
   ]
  },
  {
   "cell_type": "code",
   "execution_count": 45,
   "metadata": {
    "tags": []
   },
   "outputs": [
    {
     "output_type": "stream",
     "name": "stdout",
     "text": "My name is Yash and my lucky number is 15\n"
    }
   ],
   "source": [
    "# Now another way to format a string is by directly passing variable names to the placeholder and then accessing actual values or dynamically defining the value on call. For example\n",
    "print('My name is {string} and my lucky number is {n}'.format(string = 'Yash', n = 15))\n",
    "# Since the format order isn't required in this case as the placeholders contain the identifier name, you can use them as many times as you want without having to worry about the order of the format call."
   ]
  },
  {
   "cell_type": "code",
   "execution_count": 46,
   "metadata": {},
   "outputs": [
    {
     "output_type": "execute_result",
     "data": {
      "text/plain": "'h'"
     },
     "metadata": {},
     "execution_count": 46
    }
   ],
   "source": [
    "# Let's work with string indexing. Let's instantiate a variable \n",
    "s = 'hello' # here, each letter corresponds to an index which starts from 0 and we can grab any particular character or a sequence of characters from the string. If we try something beyond the length of the string, we get an error. For example =\n",
    "s[0]"
   ]
  },
  {
   "cell_type": "code",
   "execution_count": 47,
   "metadata": {},
   "outputs": [
    {
     "output_type": "error",
     "ename": "IndexError",
     "evalue": "string index out of range",
     "traceback": [
      "\u001b[0;31m---------------------------------------------------------------------------\u001b[0m",
      "\u001b[0;31mIndexError\u001b[0m                                Traceback (most recent call last)",
      "\u001b[0;32m<ipython-input-47-34c622ab6870>\u001b[0m in \u001b[0;36m<module>\u001b[0;34m\u001b[0m\n\u001b[0;32m----> 1\u001b[0;31m \u001b[0ms\u001b[0m\u001b[0;34m[\u001b[0m\u001b[0;36m10\u001b[0m\u001b[0;34m]\u001b[0m\u001b[0;34m\u001b[0m\u001b[0;34m\u001b[0m\u001b[0m\n\u001b[0m",
      "\u001b[0;31mIndexError\u001b[0m: string index out of range"
     ]
    }
   ],
   "source": [
    "s[10]"
   ]
  },
  {
   "cell_type": "code",
   "execution_count": 49,
   "metadata": {},
   "outputs": [
    {
     "output_type": "execute_result",
     "data": {
      "text/plain": "'o'"
     },
     "metadata": {},
     "execution_count": 49
    }
   ],
   "source": [
    "# see, that yields a string index out of range or out of bounds (java guy issue)\n",
    "# Now, python follows a backward tracing rule in strings and other reference types. What that means is we can use negative notation to fetch strings backwards. For example\n",
    "s[-1]"
   ]
  },
  {
   "cell_type": "code",
   "execution_count": 54,
   "metadata": {},
   "outputs": [
    {
     "output_type": "execute_result",
     "data": {
      "text/plain": "'hell'"
     },
     "metadata": {},
     "execution_count": 54
    }
   ],
   "source": [
    "# We can even specify the length of the stream grab using colon specifier. This is called slice notation\n",
    "s[0:-1]"
   ]
  },
  {
   "cell_type": "code",
   "execution_count": 52,
   "metadata": {},
   "outputs": [
    {
     "output_type": "execute_result",
     "data": {
      "text/plain": "''"
     },
     "metadata": {},
     "execution_count": 52
    }
   ],
   "source": [
    "# Note that the last word isn't included, and if you do s[0:0], that won't work either because that's where the priority association is assigned from left to right normally like other programming languages, and the negative indexing fails\n",
    "s[0:0]"
   ]
  },
  {
   "cell_type": "code",
   "execution_count": 55,
   "metadata": {},
   "outputs": [
    {
     "output_type": "execute_result",
     "data": {
      "text/plain": "'hello'"
     },
     "metadata": {},
     "execution_count": 55
    }
   ],
   "source": [
    "# Hence to access from a particular index to the end, you can do it like this:\n",
    "s[0:]"
   ]
  },
  {
   "cell_type": "code",
   "execution_count": 57,
   "metadata": {},
   "outputs": [
    {
     "output_type": "execute_result",
     "data": {
      "text/plain": "'hell'"
     },
     "metadata": {},
     "execution_count": 57
    }
   ],
   "source": [
    "# The blank space automatically recognizes the EOL and fetches the results upto that. Again, it works backwards as well. For example, if you wanna grab something before a particular index, then you can do\n",
    "s[:4]"
   ]
  },
  {
   "cell_type": "code",
   "execution_count": 59,
   "metadata": {},
   "outputs": [],
   "source": [
    "# So the idea is to grab everything upto, but not including the character at index 4\n",
    "# This might be confusing a little in the beginning, but realize that, the upper limit is never included, but the primary limit is always included.\n",
    "# This notation will help later on when we work with dictionaries, tuples, sets and especially lists."
   ]
  },
  {
   "cell_type": "code",
   "execution_count": 61,
   "metadata": {},
   "outputs": [
    {
     "output_type": "execute_result",
     "data": {
      "text/plain": "'Hell'"
     },
     "metadata": {},
     "execution_count": 61
    }
   ],
   "source": [
    "# Normally, since this is reference to the string object type, you don't necessarily need to assign to a variable first. It can be directly called and delimited when required.\n",
    "'Hello'[0:4]"
   ]
  },
  {
   "cell_type": "code",
   "execution_count": 62,
   "metadata": {},
   "outputs": [
    {
     "output_type": "execute_result",
     "data": {
      "text/plain": "[1, 'a', 'hello']"
     },
     "metadata": {},
     "execution_count": 62
    }
   ],
   "source": [
    "# Let's start with list now. Lists are nothing but a collection of values of all sorts of data type. You can have a list entirely comprising of integers. You can have a mixed list which contains characters, integers, strings, litearlly anything that can again - be outputted to the console itself. For example\n",
    "[1, 'a', 'hello']"
   ]
  },
  {
   "cell_type": "code",
   "execution_count": 63,
   "metadata": {},
   "outputs": [],
   "source": [
    "# This list contains data types like int char, and even strings. To assign a list is to basically give yet another random variable because of Python's dynamic initialization process.\n",
    "l = ['a', 'b', 'c']"
   ]
  },
  {
   "cell_type": "code",
   "execution_count": 64,
   "metadata": {
    "tags": []
   },
   "outputs": [
    {
     "output_type": "stream",
     "name": "stdout",
     "text": "['a', 'b', 'c']\n"
    }
   ],
   "source": [
    "print(l) # Now if you print out l, that's what you'll get, the whole list."
   ]
  },
  {
   "cell_type": "code",
   "execution_count": 65,
   "metadata": {},
   "outputs": [
    {
     "output_type": "execute_result",
     "data": {
      "text/plain": "['a', 'b', 'c', 'd']"
     },
     "metadata": {},
     "execution_count": 65
    }
   ],
   "source": [
    "# If you remember from the strings section, we can follow the same set of indexing approach or logistic to this form as well. A list again handles a format from index 0 to index n where the n+1th data has the nth index. Let's create a list here to understand it a bit more clearly.\n",
    "my_list = ['a', 'b', 'c']\n",
    "# Now, let's say you wanna add a letter or another data to the list, you can use the .append function. For example,\n",
    "my_list.append('d')\n",
    "my_list"
   ]
  },
  {
   "cell_type": "code",
   "execution_count": 70,
   "metadata": {},
   "outputs": [
    {
     "output_type": "execute_result",
     "data": {
      "text/plain": "['a', 'f', 'c', 'd']"
     },
     "metadata": {},
     "execution_count": 70
    }
   ],
   "source": [
    "# Now as you see, you've the letter 'd' there as well. You can use the same slice notation to grab a particular section of the list like in strings. Although remember that strings are immutable unlike lists. What that means is, let's say in this list, I wanna change the letter b at index 1 to letter f, then I can do something like\n",
    "my_list[1] = 'f'\n",
    "my_list"
   ]
  },
  {
   "cell_type": "code",
   "execution_count": 72,
   "metadata": {},
   "outputs": [
    {
     "output_type": "error",
     "ename": "TypeError",
     "evalue": "'str' object does not support item assignment",
     "traceback": [
      "\u001b[0;31m---------------------------------------------------------------------------\u001b[0m",
      "\u001b[0;31mTypeError\u001b[0m                                 Traceback (most recent call last)",
      "\u001b[0;32m<ipython-input-72-40733c608428>\u001b[0m in \u001b[0;36m<module>\u001b[0;34m\u001b[0m\n\u001b[1;32m      1\u001b[0m \u001b[0;31m# However, in strings, we cannot do that. Let's try and see what happens if I do attempt that.\u001b[0m\u001b[0;34m\u001b[0m\u001b[0;34m\u001b[0m\u001b[0;34m\u001b[0m\u001b[0m\n\u001b[1;32m      2\u001b[0m \u001b[0mname\u001b[0m \u001b[0;34m=\u001b[0m \u001b[0;34m\"Jake Paul\"\u001b[0m\u001b[0;34m\u001b[0m\u001b[0;34m\u001b[0m\u001b[0m\n\u001b[0;32m----> 3\u001b[0;31m \u001b[0mname\u001b[0m\u001b[0;34m[\u001b[0m\u001b[0;36m2\u001b[0m\u001b[0;34m]\u001b[0m \u001b[0;34m=\u001b[0m \u001b[0;34m'n'\u001b[0m\u001b[0;34m\u001b[0m\u001b[0;34m\u001b[0m\u001b[0m\n\u001b[0m",
      "\u001b[0;31mTypeError\u001b[0m: 'str' object does not support item assignment"
     ]
    }
   ],
   "source": [
    "# However, in strings, we cannot do that. Let's try and see what happens if I do attempt that.\n",
    "name = \"Jake Paul\"\n",
    "name[2] = 'n'"
   ]
  },
  {
   "cell_type": "code",
   "execution_count": 73,
   "metadata": {},
   "outputs": [
    {
     "output_type": "execute_result",
     "data": {
      "text/plain": "['a', 'k', 'f', 'c', 'd']"
     },
     "metadata": {},
     "execution_count": 73
    }
   ],
   "source": [
    "# If we try to assign n to the name here, so as to obtain the name Jane Paul instead, it will give us the type error that 'str' object doesn't support type assignment. Hence, it's immutable by default.\n",
    "# Lists also have the insert function to insert a particular data at a specified index, and it will shift the rest of the data rightways associatively. What that means is, well let's grab our earlier list and try to add a letter k before f that we assigned last, we can do that using\n",
    "my_list.insert(1, 'k')\n",
    "my_list"
   ]
  },
  {
   "cell_type": "code",
   "execution_count": 74,
   "metadata": {},
   "outputs": [
    {
     "output_type": "execute_result",
     "data": {
      "text/plain": "0"
     },
     "metadata": {},
     "execution_count": 74
    }
   ],
   "source": [
    "# Now, we have k at index 1 and the rest of the data have their indexes shifted by +1 to the right. Similarly, like strings, we can find the index of a particular data or vice versa using the function index\n",
    "my_list.index('a')"
   ]
  },
  {
   "cell_type": "code",
   "execution_count": 75,
   "metadata": {},
   "outputs": [
    {
     "output_type": "execute_result",
     "data": {
      "text/plain": "['f', 'c', 'd']"
     },
     "metadata": {},
     "execution_count": 75
    }
   ],
   "source": [
    "# Which returns 0 as the index of the first letter is 0.\n",
    "# Like the broad scope definition, if we want to grab something from k afterwards, we can do that as well\n",
    "my_list[2:]"
   ]
  },
  {
   "cell_type": "code",
   "execution_count": 77,
   "metadata": {},
   "outputs": [
    {
     "output_type": "execute_result",
     "data": {
      "text/plain": "[2, 3, 4]"
     },
     "metadata": {},
     "execution_count": 77
    }
   ],
   "source": [
    "# And this will fetch everything at index 2 and afterwards. Again remember that the lower bound is always accountable for, but for the upper bound, we take upper_bound - 1\n",
    "# One very interesting aspect of lists is nesting of lists, practically we can have as many dimensional lists as we want, and this is especially helpful in machine learning models where we have to work with temporal nodes and intermediates, about which we'll discuss later. Lemme reannotate my previous list with some new data\n",
    "my_list = [1, [2, 3, 4], 2, 3, 4]\n",
    "# If you want to access the second element of the internal list, you can do something like \n",
    "my_list[1][1] # Since the second list inside itself is at the 1st index, and this would give us the value 3\n",
    "# If you want to access the whole internal list itself, you can just define index at 1 and it'll give you that\n",
    "my_list[1]"
   ]
  },
  {
   "cell_type": "code",
   "execution_count": 78,
   "metadata": {},
   "outputs": [],
   "source": [
    "# This nesting could go on and on, without any hindrance, but as the nesting tree grows, the complexity of the problem and it's hierarchical management grows significantly. Again, you can mutate the internal elements of the intermediate list and so on."
   ]
  },
  {
   "cell_type": "code",
   "execution_count": 85,
   "metadata": {},
   "outputs": [
    {
     "output_type": "error",
     "ename": "KeyError",
     "evalue": "1",
     "traceback": [
      "\u001b[0;31m---------------------------------------------------------------------------\u001b[0m",
      "\u001b[0;31mKeyError\u001b[0m                                  Traceback (most recent call last)",
      "\u001b[0;32m<ipython-input-85-03797054a568>\u001b[0m in \u001b[0;36m<module>\u001b[0;34m\u001b[0m\n\u001b[1;32m      2\u001b[0m \u001b[0md\u001b[0m \u001b[0;34m=\u001b[0m \u001b[0;34m{\u001b[0m\u001b[0;34m'#1'\u001b[0m\u001b[0;34m:\u001b[0m \u001b[0;34m'You are topper'\u001b[0m\u001b[0;34m,\u001b[0m \u001b[0;34m'#2'\u001b[0m\u001b[0;34m:\u001b[0m \u001b[0;34m'Failure'\u001b[0m\u001b[0;34m}\u001b[0m\u001b[0;34m\u001b[0m\u001b[0;34m\u001b[0m\u001b[0m\n\u001b[1;32m      3\u001b[0m \u001b[0;31m# Unlike lists, we don't have an indexing rule here, all we can do is pass the actual key itself, only then will the corresponding value to that key will be sent to the console. For example, to access Failure scheme, we have to provide the whole key #2\u001b[0m\u001b[0;34m\u001b[0m\u001b[0;34m\u001b[0m\u001b[0;34m\u001b[0m\u001b[0m\n\u001b[0;32m----> 4\u001b[0;31m \u001b[0md\u001b[0m\u001b[0;34m[\u001b[0m\u001b[0;36m1\u001b[0m\u001b[0;34m]\u001b[0m\u001b[0;34m\u001b[0m\u001b[0;34m\u001b[0m\u001b[0m\n\u001b[0m",
      "\u001b[0;31mKeyError\u001b[0m: 1"
     ]
    }
   ],
   "source": [
    "# Now, let's start with dictionary. We do that in python by using curly braces, inside which the leading element always holds the key and the preceeding element holds the value corresponding to that key. Now, note that a dictionary can have as many elements as you want, each delimited by a comma. Let's instantiate one\n",
    "d = {'#1': 'You are topper', '#2': 'Failure'}\n",
    "# Unlike lists, we don't have an indexing rule here, all we can do is pass the actual key itself, only then will the corresponding value to that key will be sent to the console. For example, to access Failure scheme, we have to provide the whole key #2\n",
    "d[1]"
   ]
  },
  {
   "cell_type": "code",
   "execution_count": 87,
   "metadata": {},
   "outputs": [
    {
     "output_type": "execute_result",
     "data": {
      "text/plain": "'Failure'"
     },
     "metadata": {},
     "execution_count": 87
    }
   ],
   "source": [
    "# See, it's giving type error because there's no value corresponding to the key 1, and there's no indexing rule in dictionaries. So the right approach to access it would be to enter the key\n",
    "d['#2']"
   ]
  },
  {
   "cell_type": "code",
   "execution_count": 89,
   "metadata": {},
   "outputs": [
    {
     "output_type": "execute_result",
     "data": {
      "text/plain": "'a'"
     },
     "metadata": {},
     "execution_count": 89
    }
   ],
   "source": [
    "# Now, you must understand that dictionary works like stacks. You can pop values from it, you can push to it, and so on... Now, just like lists, dictionaries can house any type of data, even lists within themselves. So, let's complicate the situation a little bit, let's pass a list to a key in a dictionary which holds a string, and we have to access the letter a from that string. \n",
    "d = {'key1': [1, 2, 'halllpppp']}\n",
    "# To access the letter a, we must provide the key, followed by the index of the string, and then the index of the letter a itself. Dictionaries do not retain any pattern like lists.\n",
    "d['key1'][2][1]"
   ]
  },
  {
   "cell_type": "code",
   "execution_count": 90,
   "metadata": {},
   "outputs": [],
   "source": [
    "# The scope of these approaches might seem limited only, but there's numerous use cases for it, especially when you grow a industry grade application, it can be utilized in scaling, in web automation where these complex indexing are very important for grabbing tokens, cookie addresses and so on."
   ]
  },
  {
   "cell_type": "code",
   "execution_count": 93,
   "metadata": {},
   "outputs": [
    {
     "output_type": "execute_result",
     "data": {
      "text/plain": "2"
     },
     "metadata": {},
     "execution_count": 93
    }
   ],
   "source": [
    "# We'll start with tuples now. To clear doubts, what are tuples? Well, remember lists, tuples are the same thing - a sequence of values inside parentheses, but the difference lies in the immutability factor of tuples. \n",
    "tup = (1, 2, 'a', 'b')\n",
    "tup[1]"
   ]
  },
  {
   "cell_type": "code",
   "execution_count": 92,
   "metadata": {},
   "outputs": [
    {
     "output_type": "error",
     "ename": "TypeError",
     "evalue": "'tuple' object does not support item assignment",
     "traceback": [
      "\u001b[0;31m---------------------------------------------------------------------------\u001b[0m",
      "\u001b[0;31mTypeError\u001b[0m                                 Traceback (most recent call last)",
      "\u001b[0;32m<ipython-input-92-a03041fd58e8>\u001b[0m in \u001b[0;36m<module>\u001b[0;34m\u001b[0m\n\u001b[1;32m      1\u001b[0m \u001b[0;31m# But the value wouldn't mutate like in lists. Lemme improve here\u001b[0m\u001b[0;34m\u001b[0m\u001b[0;34m\u001b[0m\u001b[0;34m\u001b[0m\u001b[0m\n\u001b[0;32m----> 2\u001b[0;31m \u001b[0mtup\u001b[0m\u001b[0;34m[\u001b[0m\u001b[0;36m1\u001b[0m\u001b[0;34m]\u001b[0m \u001b[0;34m=\u001b[0m \u001b[0;36m2\u001b[0m\u001b[0;34m\u001b[0m\u001b[0;34m\u001b[0m\u001b[0m\n\u001b[0m",
      "\u001b[0;31mTypeError\u001b[0m: 'tuple' object does not support item assignment"
     ]
    }
   ],
   "source": [
    "# But the value wouldn't mutate like in lists. Lemme improve here\n",
    "tup[1] = 2"
   ]
  },
  {
   "cell_type": "code",
   "execution_count": 94,
   "metadata": {},
   "outputs": [],
   "source": [
    "# Here we get a similar error like strings, which implies they're immutable. The use case lies in scopes where the values don't need to be changed. Let's say you've a student database record, which contains fields like name, roll number and aggregate percentage, then you'll need a tuple. why? Lemme show you\n",
    "tup = ('Name', 'Roll', 'Grade')"
   ]
  },
  {
   "cell_type": "code",
   "execution_count": 95,
   "metadata": {},
   "outputs": [],
   "source": [
    "# Notice that since we already have tup variable, it's not giving error. It's because we are not mutating the tuple itself, but redefining the value contained by that identifier tup.\n",
    "# Here if someone attempts changing the value of any particular field or morph it, tuples wouldn't permit doing it, hencing making it more robust in the use case."
   ]
  },
  {
   "cell_type": "code",
   "execution_count": 96,
   "metadata": {},
   "outputs": [],
   "source": [
    "# Hence the only two differences between lists and tuples is that tuples uses parentheses while lists use blocks, and tuples are immutable, while lists support mutating."
   ]
  },
  {
   "cell_type": "code",
   "execution_count": 97,
   "metadata": {},
   "outputs": [],
   "source": [
    "# Discussing sets in python. Set as explained in discrete mathematics, is merely a collection of distinct elements under braces.\n",
    "s = {1, 2, 1, 3, 4}"
   ]
  },
  {
   "cell_type": "code",
   "execution_count": 98,
   "metadata": {},
   "outputs": [
    {
     "output_type": "execute_result",
     "data": {
      "text/plain": "{1, 2, 3, 4}"
     },
     "metadata": {},
     "execution_count": 98
    }
   ],
   "source": [
    "s"
   ]
  },
  {
   "cell_type": "code",
   "execution_count": 102,
   "metadata": {},
   "outputs": [
    {
     "output_type": "execute_result",
     "data": {
      "text/plain": "{1, 2, 3, 4}"
     },
     "metadata": {},
     "execution_count": 102
    }
   ],
   "source": [
    "# It overrides recurring elements and cancels them out. \n",
    "# If you have a list of elements with repeatition, you can just pass the whole list into the set function and reduce it to distinct elements only. For example,\n",
    "l = [1, 2, 2, 3, 4]\n",
    "set(l)"
   ]
  },
  {
   "cell_type": "code",
   "execution_count": 105,
   "metadata": {},
   "outputs": [
    {
     "output_type": "execute_result",
     "data": {
      "text/plain": "{1, 2, 3, 4, 5}"
     },
     "metadata": {},
     "execution_count": 105
    }
   ],
   "source": [
    "# If you wanna add items to sets, you can use the add function call to add more elements, like\n",
    "s.add(5)\n",
    "s"
   ]
  },
  {
   "cell_type": "code",
   "execution_count": 106,
   "metadata": {},
   "outputs": [
    {
     "output_type": "execute_result",
     "data": {
      "text/plain": "{1, 2, 3, 4, 5}"
     },
     "metadata": {},
     "execution_count": 106
    }
   ],
   "source": [
    "# Now do note that, if we try appending the element 5 again, it won't throw an error, but it wouldn't really revise any changes to the preexisting set itself.\n",
    "s.add(5)\n",
    "s"
   ]
  },
  {
   "cell_type": "code",
   "execution_count": 107,
   "metadata": {},
   "outputs": [],
   "source": [
    "# So, the set remains unchanged. The scope of usage of sets is very limited, and can easily be recreated in a list using a generator without having to use the library function, however having a pre-def alternate is not a bad idea."
   ]
  },
  {
   "cell_type": "code",
   "execution_count": 108,
   "metadata": {},
   "outputs": [
    {
     "output_type": "execute_result",
     "data": {
      "text/plain": "False"
     },
     "metadata": {},
     "execution_count": 108
    }
   ],
   "source": [
    "# The comparing statements in Python use booleans unlike constants in some programming languages.\n",
    "1 > 2"
   ]
  },
  {
   "cell_type": "code",
   "execution_count": 109,
   "metadata": {},
   "outputs": [
    {
     "output_type": "execute_result",
     "data": {
      "text/plain": "False"
     },
     "metadata": {},
     "execution_count": 109
    }
   ],
   "source": [
    "1 == 2"
   ]
  },
  {
   "cell_type": "code",
   "execution_count": 111,
   "metadata": {
    "tags": []
   },
   "outputs": [
    {
     "output_type": "execute_result",
     "data": {
      "text/plain": "False"
     },
     "metadata": {},
     "execution_count": 111
    }
   ],
   "source": [
    "# So, just ensure that you're using the comparison operator, not the assignment operator, otherwise you might get in issues. You can combine these operators with logical operators to do so\n",
    "1 > 3 and 2 > 3"
   ]
  },
  {
   "cell_type": "code",
   "execution_count": 112,
   "metadata": {},
   "outputs": [
    {
     "output_type": "execute_result",
     "data": {
      "text/plain": "True"
     },
     "metadata": {},
     "execution_count": 112
    }
   ],
   "source": [
    "# So, both the expressions are false, hence their and yields false.\n",
    "1 < 3 & 2 < 3"
   ]
  },
  {
   "cell_type": "code",
   "execution_count": 114,
   "metadata": {},
   "outputs": [],
   "source": [
    "# Now, note the difference between & and &&, we'll clear the difference more when we dive into conditional control structures."
   ]
  },
  {
   "cell_type": "code",
   "execution_count": 116,
   "metadata": {
    "tags": []
   },
   "outputs": [
    {
     "output_type": "stream",
     "name": "stdout",
     "text": "10 is greater than 5\n"
    }
   ],
   "source": [
    "# Let's start with conditional control structures then. For example consideration, let us use the if statement to print hello when x > y and so\n",
    "x = 5\n",
    "y = 10\n",
    "if x > y:\n",
    "    print('{} is greater than {}'.format(x, y))\n",
    "else:\n",
    "    print('{} is greater than {}'.format(y, x))"
   ]
  },
  {
   "cell_type": "code",
   "execution_count": 118,
   "metadata": {
    "tags": []
   },
   "outputs": [
    {
     "output_type": "stream",
     "name": "stdout",
     "text": "bye\n"
    }
   ],
   "source": [
    "# Remember in python, since you're not using any scope variance operators like braces, indentation is the essential part of the program, if you forget to add the indentation, it will either forget that loop there, wit 0 effect on the succeeding code or it will throw errors.\n",
    "# Let's say we'll check multiple conditions\n",
    "if 1 == 2 and 2 == 3:\n",
    "    print(\"hello\")\n",
    "else:\n",
    "    print(\"bye\")"
   ]
  },
  {
   "cell_type": "code",
   "execution_count": 120,
   "metadata": {
    "tags": []
   },
   "outputs": [
    {
     "output_type": "execute_result",
     "data": {
      "text/plain": "False"
     },
     "metadata": {},
     "execution_count": 120
    }
   ],
   "source": [
    "# Remember in python, the logical and is given as 'and' while the bitwise and is given as a single & sign. If we want to translate the first if statement to a conditional check without operation, we can do something like\n",
    "x > y and print('Hello')\n",
    "# This way, it will only print hello if x > y, otherwise it will execute the first condition and stop there."
   ]
  },
  {
   "cell_type": "code",
   "execution_count": 121,
   "metadata": {},
   "outputs": [],
   "source": [
    "# If we use a bitwise and there instead, it would throw us a logical error since it cannot process both, however in more competitive languages or in shell coding, the difference is a bit more apparent. "
   ]
  },
  {
   "cell_type": "code",
   "execution_count": 122,
   "metadata": {},
   "outputs": [],
   "source": [
    "# Let's start with loops here, we'll cover for loop and while loop. \n",
    "# To begin with, we'll just use the for loop over a list. Let's define one then\n",
    "seq = ['a', 'b', 'c', 'd']"
   ]
  },
  {
   "cell_type": "code",
   "execution_count": 123,
   "metadata": {
    "tags": []
   },
   "outputs": [
    {
     "output_type": "stream",
     "name": "stdout",
     "text": "a\nb\nc\nd\n"
    }
   ],
   "source": [
    "# Now this is going to be fairly similar to a generator. Which we'll discuss later on\n",
    "for var in seq:\n",
    "    print(var)"
   ]
  },
  {
   "cell_type": "code",
   "execution_count": 124,
   "metadata": {
    "tags": []
   },
   "outputs": [
    {
     "output_type": "stream",
     "name": "stdout",
     "text": "1\n2\n3\n4\n5\n"
    }
   ],
   "source": [
    "# Note that, var is just an identifier whose value changes everytime it iterates over the list 'seq'. Python's diverse adaption to dynamic data type instantiation permits this. You can basically replace it to use any variable of your choice, and use the same for operation within the scope of that for loop.\n",
    "l = [1, 2, 3, 4, 5]\n",
    "for x in l:\n",
    "    print(x)"
   ]
  },
  {
   "cell_type": "code",
   "execution_count": 3,
   "metadata": {
    "tags": [
     "outputPrepend"
    ]
   },
   "outputs": [
    {
     "output_type": "stream",
     "name": "stdout",
     "text": "\ni is 1\ni is 1\ni is 1\ni is 1\ni is 1\ni is 1\ni is 1\ni is 1\ni is 1\ni is 1\ni is 1\ni is 1\ni is 1\ni is 1\ni is 1\ni is 1\ni is 1\ni is 1\ni is 1\ni is 1\ni is 1\ni is 1\ni is 1\ni is 1\ni is 1\ni is 1\ni is 1\ni is 1\ni is 1\ni is 1\ni is 1\ni is 1\ni is 1\ni is 1\ni is 1\ni is 1\ni is 1\ni is 1\ni is 1\ni is 1\ni is 1\ni is 1\ni is 1\ni is 1\ni is 1\ni is 1\ni is 1\ni is 1\ni is 1\ni is 1\ni is 1\ni is 1\ni is 1\ni is 1\ni is 1\ni is 1\ni is 1\ni is 1\ni is 1\ni is 1\ni is 1\ni is 1\ni is 1\ni is 1\ni is 1\ni is 1\ni is 1\ni is 1\ni is 1\ni is 1\ni is 1\ni is 1\ni is 1\ni is 1\ni is 1\ni is 1\ni is 1\ni is 1\ni is 1\ni is 1\ni is 1\ni is 1\ni is 1\ni is 1\ni is 1\ni is 1\ni is 1\ni is 1\ni is 1\ni is 1\ni is 1\ni is 1\ni is 1\ni is 1\ni is 1\ni is 1\ni is 1\ni is 1\ni is 1\ni is 1\ni is 1\ni is 1\ni is 1\ni is 1\ni is 1\ni is 1\ni is 1\ni is 1\ni is 1\ni is 1\ni is 1\ni is 1\ni is 1\ni is 1\ni is 1\ni is 1\ni is 1\ni is 1\ni is 1\ni is 1\ni is 1\ni is 1\ni is 1\ni is 1\ni is 1\ni is 1\ni is 1\ni is 1\ni is 1\ni is 1\ni is 1\ni is 1\ni is 1\ni is 1\ni is 1\ni is 1\ni is 1\ni is 1\ni is 1\ni is 1\ni is 1\ni is 1\ni is 1\ni is 1\ni is 1\ni is 1\ni is 1\ni is 1\ni is 1\ni is 1\ni is 1\ni is 1\ni is 1\ni is 1\ni is 1\ni is 1\ni is 1\ni is 1\ni is 1\ni is 1\ni is 1\ni is 1\ni is 1\ni is 1\ni is 1\ni is 1\ni is 1\ni is 1\ni is 1\ni is 1\ni is 1\ni is 1\ni is 1\ni is 1\ni is 1\ni is 1\ni is 1\ni is 1\ni is 1\ni is 1\ni is 1\ni is 1\ni is 1\ni is 1\ni is 1\ni is 1\ni is 1\ni is 1\ni is 1\ni is 1\ni is 1\ni is 1\ni is 1\ni is 1\ni is 1\ni is 1\ni is 1\ni is 1\ni is 1\ni is 1\ni is 1\ni is 1\ni is 1\ni is 1\ni is 1\ni is 1\ni is 1\ni is 1\ni is 1\ni is 1\ni is 1\ni is 1\ni is 1\ni is 1\ni is 1\ni is 1\ni is 1\ni is 1\ni is 1\ni is 1\ni is 1\ni is 1\ni is 1\ni is 1\ni is 1\ni is 1\ni is 1\ni is 1\ni is 1\ni is 1\ni is 1\ni is 1\ni is 1\ni is 1\ni is 1\ni is 1\ni is 1\ni is 1\ni is 1\ni is 1\ni is 1\ni is 1\ni is 1\ni is 1\ni is 1\ni is 1\ni is 1\ni is 1\ni is 1\ni is 1\ni is 1\ni is 1\ni is 1\ni is 1\ni is 1\ni is 1\ni is 1\ni is 1\ni is 1\ni is 1\ni is 1\ni is 1\ni is 1\ni is 1\ni is 1\ni is 1\ni is 1\ni is 1\ni is 1\ni is 1\ni is 1\ni is 1\ni is 1\ni is 1\ni is 1\ni is 1\ni is 1\ni is 1\ni is 1\ni is 1\ni is 1\ni is 1\ni is 1\ni is 1\ni is 1\ni is 1\ni is 1\ni is 1\ni is 1\ni is 1\ni is 1\ni is 1\ni is 1\ni is 1\ni is 1\ni is 1\ni is 1\ni is 1\ni is 1\ni is 1\ni is 1\ni is 1\ni is 1\ni is 1\ni is 1\ni is 1\ni is 1\ni is 1\ni is 1\ni is 1\ni is 1\ni is 1\ni is 1\ni is 1\ni is 1\ni is 1\ni is 1\ni is 1\ni is 1\ni is 1\ni is 1\ni is 1\ni is 1\ni is 1\ni is 1\ni is 1\ni is 1\ni is 1\ni is 1\ni is 1\ni is 1\ni is 1\ni is 1\ni is 1\ni is 1\ni is 1\ni is 1\ni is 1\ni is 1\ni is 1\ni is 1\ni is 1\ni is 1\ni is 1\ni is 1\ni is 1\ni is 1\ni is 1\ni is 1\ni is 1\ni is 1\ni is 1\ni is 1\ni is 1\ni is 1\ni is 1\ni is 1\ni is 1\ni is 1\ni is 1\ni is 1\ni is 1\ni is 1\ni is 1\ni is 1\ni is 1\ni is 1\ni is 1\ni is 1\ni is 1\ni is 1\ni is 1\ni is 1\ni is 1\ni is 1\ni is 1\ni is 1\ni is 1\ni is 1\ni is 1\ni is 1\ni is 1\ni is 1\ni is 1\ni is 1\ni is 1\ni is 1\ni is 1\ni is 1\ni is 1\ni is 1\ni is 1\ni is 1\ni is 1\ni is 1\ni is 1\ni is 1\ni is 1\ni is 1\ni is 1\ni is 1\ni is 1\ni is 1\ni is 1\ni is 1\ni is 1\ni is 1\ni is 1\ni is 1\ni is 1\ni is 1\ni is 1\ni is 1\ni is 1\ni is 1\ni is 1\ni is 1\ni is 1\ni is 1\ni is 1\ni is 1\ni is 1\ni is 1\ni is 1\ni is 1\ni is 1\ni is 1\ni is 1\ni is 1\ni is 1\ni is 1\ni is 1\ni is 1\ni is 1\ni is 1\ni is 1\ni is 1\ni is 1\ni is 1\ni is 1\ni is 1\ni is 1\ni is 1\ni is 1\ni is 1\ni is 1\ni is 1\ni is 1\ni is 1\ni is 1\ni is 1\ni is 1\ni is 1\ni is 1\ni is 1\ni is 1\ni is 1\ni is 1\ni is 1\ni is 1\ni is 1\ni is 1\ni is 1\ni is 1\ni is 1\ni is 1\ni is 1\ni is 1\ni is 1\ni is 1\ni is 1\ni is 1\ni is 1\ni is 1\ni is 1\ni is 1\ni is 1\ni is 1\ni is 1\ni is 1\ni is 1\ni is 1\ni is 1\ni is 1\ni is 1\ni is 1\ni is 1\ni is 1\ni is 1\ni is 1\ni is 1\ni is 1\ni is 1\ni is 1\ni is 1\ni is 1\ni is 1\ni is 1\ni is 1\ni is 1\ni is 1\ni is 1\ni is 1\ni is 1\ni is 1\ni is 1\ni is 1\ni is 1\ni is 1\ni is 1\ni is 1\ni is 1\ni is 1\ni is 1\ni is 1\ni is 1\ni is 1\ni is 1\ni is 1\ni is 1\ni is 1\ni is 1\ni is 1\ni is 1\ni is 1\ni is 1\ni is 1\ni is 1\ni is 1\ni is 1\ni is 1\ni is 1\ni is 1\ni is 1\ni is 1\ni is 1\ni is 1\ni is 1\ni is 1\ni is 1\ni is 1\ni is 1\ni is 1\ni is 1\ni is 1\ni is 1\ni is 1\ni is 1\ni is 1\ni is 1\ni is 1\ni is 1\ni is 1\ni is 1\ni is 1\ni is 1\ni is 1\ni is 1\ni is 1\ni is 1\ni is 1\ni is 1\ni is 1\ni is 1\ni is 1\ni is 1\ni is 1\ni is 1\ni is 1\ni is 1\ni is 1\ni is 1\ni is 1\ni is 1\ni is 1\ni is 1\ni is 1\ni is 1\ni is 1\ni is 1\ni is 1\ni is 1\ni is 1\ni is 1\ni is 1\ni is 1\ni is 1\ni is 1\ni is 1\ni is 1\ni is 1\ni is 1\ni is 1\ni is 1\ni is 1\ni is 1\ni is 1\ni is 1\ni is 1\ni is 1\ni is 1\ni is 1\ni is 1\ni is 1\ni is 1\ni is 1\ni is 1\ni is 1\ni is 1\ni is 1\ni is 1\ni is 1\ni is 1\ni is 1\ni is 1\ni is 1\ni is 1\ni is 1\ni is 1\ni is 1\ni is 1\ni is 1\ni is 1\ni is 1\ni is 1\ni is 1\ni is 1\ni is 1\ni is 1\ni is 1\ni is 1\ni is 1\ni is 1\ni is 1\ni is 1\ni is 1\ni is 1\ni is 1\ni is 1\ni is 1\ni is 1\ni is 1\ni is 1\ni is 1\ni is 1\ni is 1\ni is 1\ni is 1\ni is 1\ni is 1\ni is 1\ni is 1\ni is 1\ni is 1\ni is 1\ni is 1\ni is 1\ni is 1\ni is 1\ni is 1\ni is 1\ni is 1\ni is 1\ni is 1\ni is 1\ni is 1\ni is 1\ni is 1\ni is 1\ni is 1\ni is 1\ni is 1\ni is 1\ni is 1\ni is 1\ni is 1\ni is 1\ni is 1\ni is 1\ni is 1\ni is 1\ni is 1\ni is 1\ni is 1\ni is 1\ni is 1\ni is 1\ni is 1\ni is 1\ni is 1\ni is 1\ni is 1\ni is 1\ni is 1\ni is 1\ni is 1\ni is 1\ni is 1\ni is 1\ni is 1\ni is 1\ni is 1\ni is 1\ni is 1\ni is 1\ni is 1\ni is 1\ni is 1\ni is 1\ni is 1\ni is 1\ni is 1\ni is 1\ni is 1\ni is 1\ni is 1\ni is 1\ni is 1\ni is 1\ni is 1\ni is 1\ni is 1\ni is 1\ni is 1\ni is 1\ni is 1\ni is 1\ni is 1\ni is 1\ni is 1\ni is 1\ni is 1\ni is 1\ni is 1\ni is 1\ni is 1\ni is 1\ni is 1\ni is 1\ni is 1\ni is 1\ni is 1\ni is 1\ni is 1\ni is 1\ni is 1\ni is 1\ni is 1\ni is 1\ni is 1\ni is 1\ni is 1\ni is 1\ni is 1\ni is 1\ni is 1\ni is 1\ni is 1\ni is 1\ni is 1\ni is 1\ni is 1\ni is 1\ni is 1\ni is 1\ni is 1\ni is 1\ni is 1\ni is 1\ni is 1\ni is 1\ni is 1\ni is 1\ni is 1\ni is 1\ni is 1\ni is 1\ni is 1\ni is 1\ni is 1\ni is 1\ni is 1\ni is 1\ni is 1\ni is 1\ni is 1\ni is 1\ni is 1\ni is 1\ni is 1\ni is 1\ni is 1\ni is 1\ni is 1\ni is 1\ni is 1\ni is 1\ni is 1\ni is 1\ni is 1\ni is 1\ni is 1\ni is 1\ni is 1\ni is 1\ni is 1\ni is 1\ni is 1\ni is 1\ni is 1\ni is 1\ni is 1\ni is 1\ni is 1\ni is 1\ni is 1\ni is 1\ni is 1\ni is 1\ni is 1\ni is 1\ni is 1\ni is 1\ni is 1\ni is 1\ni is 1\ni is 1\ni is 1\ni is 1\ni is 1\ni is 1\ni is 1\ni is 1\ni is 1\ni is 1\ni is 1\ni is 1\ni is 1\ni is 1\ni is 1\ni is 1\ni is 1\ni is 1\ni is 1\ni is 1\ni is 1\ni is 1\ni is 1\ni is 1\ni is 1\ni is 1\ni is 1\ni is 1\ni is 1\ni is 1\ni is 1\ni is 1\ni is 1\ni is 1\ni is 1\ni is 1\ni is 1\ni is 1\ni is 1\ni is 1\ni is 1\ni is 1\ni is 1\ni is 1\ni is 1\ni is 1\ni is 1\ni is 1\ni is 1\ni is 1\ni is 1\ni is 1\ni is 1\ni is 1\ni is 1\ni is 1\ni is 1\ni is 1\ni is 1\ni is 1\ni is 1\ni is 1\ni is 1\ni is 1\ni is 1\ni is 1\ni is 1\ni is 1\ni is 1\ni is 1\ni is 1\ni is 1\ni is 1\ni is 1\ni is 1\ni is 1\ni is 1\ni is 1\ni is 1\ni is 1\ni is 1\ni is 1\ni is 1\ni is 1\ni is 1\ni is 1\ni is 1\ni is 1\ni is 1\ni is 1\ni is 1\ni is 1\ni is 1\ni is 1\ni is 1\ni is 1\ni is 1\ni is 1\ni is 1\ni is 1\ni is 1\ni is 1\ni is 1\ni is 1\ni is 1\ni is 1\ni is 1\ni is 1\ni is 1\ni is 1\ni is 1\ni is 1\ni is 1\ni is 1\ni is 1\ni is 1\ni is 1\ni is 1\ni is 1\ni is 1\ni is 1\ni is 1\ni is 1\ni is 1\ni is 1\ni is 1\ni is 1\ni is 1\ni is 1\ni is 1\ni is 1\ni is 1\ni is 1\ni is 1\ni is 1\ni is 1\ni is 1\ni is 1\ni is 1\ni is 1\ni is 1\ni is 1\ni is 1\ni is 1\ni is 1\ni is 1\ni is 1\ni is 1\ni is 1\ni is 1\ni is 1\ni is 1\ni is 1\ni is 1\ni is 1\ni is 1\ni is 1\ni is 1\ni is 1\ni is 1\ni is 1\ni is 1\ni is 1\ni is 1\ni is 1\ni is 1\ni is 1\ni is 1\ni is 1\ni is 1\ni is 1\ni is 1\ni is 1\ni is 1\ni is 1\ni is 1\ni is 1\ni is 1\ni is 1\ni is 1\ni is 1\ni is 1\ni is 1\ni is 1\ni is 1\ni is 1\ni is 1\ni is 1\ni is 1\ni is 1\ni is 1\ni is 1\ni is 1\ni is 1\ni is 1\ni is 1\ni is 1\ni is 1\ni is 1\ni is 1\ni is 1\ni is 1\ni is 1\ni is 1\ni is 1\ni is 1\ni is 1\ni is 1\ni is 1\ni is 1\ni is 1\ni is 1\ni is 1\ni is 1\ni is 1\ni is 1\ni is 1\ni is 1\ni is 1\ni is 1\ni is 1\ni is 1\ni is 1\ni is 1\ni is 1\ni is 1\ni is 1\ni is 1\ni is 1\ni is 1\ni is 1\ni is 1\ni is 1\ni is 1\ni is 1\ni is 1\ni is 1\ni is 1\ni is 1\ni is 1\ni is 1\ni is 1\ni is 1\ni is 1\ni is 1\ni is 1\ni is 1\ni is 1\ni is 1\ni is 1\ni is 1\ni is 1\ni is 1\ni is 1\ni is 1\ni is 1\ni is 1\ni is 1\ni is 1\ni is 1\ni is 1\ni is 1\ni is 1\ni is 1\ni is 1\ni is 1\ni is 1\ni is 1\ni is 1\ni is 1\ni is 1\ni is 1\ni is 1\ni is 1\ni is 1\ni is 1\ni is 1\ni is 1\ni is 1\ni is 1\ni is 1\ni is 1\ni is 1\ni is 1\ni is 1\ni is 1\ni is 1\ni is 1\ni is 1\ni is 1\ni is 1\ni is 1\ni is 1\ni is 1\ni is 1\ni is 1\ni is 1\ni is 1\ni is 1\ni is 1\ni is 1\ni is 1\ni is 1\ni is 1\ni is 1\ni is 1\ni is 1\ni is 1\ni is 1\ni is 1\ni is 1\ni is 1\ni is 1\ni is 1\ni is 1\ni is 1\ni is 1\ni is 1\ni is 1\ni is 1\ni is 1\ni is 1\ni is 1\ni is 1\ni is 1\ni is 1\ni is 1\ni is 1\ni is 1\ni is 1\ni is 1\ni is 1\ni is 1\ni is 1\ni is 1\ni is 1\ni is 1\ni is 1\ni is 1\ni is 1\ni is 1\ni is 1\ni is 1\ni is 1\ni is 1\ni is 1\ni is 1\ni is 1\ni is 1\ni is 1\ni is 1\ni is 1\ni is 1\ni is 1\ni is 1\ni is 1\ni is 1\ni is 1\ni is 1\ni is 1\ni is 1\ni is 1\ni is 1\ni is 1\ni is 1\ni is 1\ni is 1\ni is 1\ni is 1\ni is 1\ni is 1\ni is 1\ni is 1\ni is 1\ni is 1\ni is 1\ni is 1\ni is 1\ni is 1\ni is 1\ni is 1\ni is 1\ni is 1\ni is 1\ni is 1\ni is 1\ni is 1\ni is 1\ni is 1\ni is 1\ni is 1\ni is 1\ni is 1\ni is 1\ni is 1\ni is 1\ni is 1\ni is 1\ni is 1\ni is 1\ni is 1\ni is 1\ni is 1\ni is 1\ni is 1\ni is 1\ni is 1\ni is 1\ni is 1\ni is 1\ni is 1\ni is 1\ni is 1\ni is 1\ni is 1\ni is 1\ni is 1\ni is 1\ni is 1\ni is 1\ni is 1\ni is 1\ni is 1\ni is 1\ni is 1\ni is 1\ni is 1\ni is 1\ni is 1\ni is 1\ni is 1\ni is 1\ni is 1\ni is 1\ni is 1\ni is 1\ni is 1\ni is 1\ni is 1\ni is 1\ni is 1\ni is 1\ni is 1\ni is 1\ni is 1\ni is 1\ni is 1\ni is 1\ni is 1\ni is 1\ni is 1\ni is 1\ni is 1\ni is 1\ni is 1\ni is 1\ni is 1\ni is 1\ni is 1\ni is 1\ni is 1\ni is 1\ni is 1\ni is 1\ni is 1\ni is 1\ni is 1\ni is 1\ni is 1\ni is 1\ni is 1\ni is 1\ni is 1\ni is 1\ni is 1\ni is 1\ni is 1\ni is 1\ni is 1\ni is 1\ni is 1\ni is 1\ni is 1\ni is 1\ni is 1\ni is 1\ni is 1\ni is 1\ni is 1\ni is 1\ni is 1\ni is 1\ni is 1\ni is 1\ni is 1\ni is 1\ni is 1\ni is 1\ni is 1\ni is 1\ni is 1\ni is 1\ni is 1\ni is 1\ni is 1\ni is 1\ni is 1\ni is 1\ni is 1\ni is 1\ni is 1\ni is 1\ni is 1\ni is 1\ni is 1\ni is 1\ni is 1\ni is 1\ni is 1\ni is 1\ni is 1\ni is 1\ni is 1\ni is 1\ni is 1\ni is 1\ni is 1\ni is 1\ni is 1\ni is 1\ni is 1\ni is 1\ni is 1\ni is 1\ni is 1\ni is 1\ni is 1\ni is 1\ni is 1\ni is 1\ni is 1\ni is 1\ni is 1\ni is 1\ni is 1\ni is 1\ni is 1\ni is 1\ni is 1\ni is 1\ni is 1\ni is 1\ni is 1\ni is 1\ni is 1\ni is 1\ni is 1\ni is 1\ni is 1\ni is 1\ni is 1\ni is 1\ni is 1\ni is 1\ni is 1\ni is 1\ni is 1\ni is 1\ni is 1\ni is 1\ni is 1\ni is 1\ni is 1\ni is 1\ni is 1\ni is 1\ni is 1\ni is 1\ni is 1\ni is 1\ni is 1\ni is 1\ni is 1\ni is 1\ni is 1\ni is 1\ni is 1\ni is 1\ni is 1\ni is 1\ni is 1\ni is 1\ni is 1\ni is 1\ni is 1\ni is 1\ni is 1\ni is 1\ni is 1\ni is 1\ni is 1\ni is 1\ni is 1\ni is 1\ni is 1\ni is 1\ni is 1\ni is 1\ni is 1\ni is 1\ni is 1\ni is 1\ni is 1\ni is 1\ni is 1\ni is 1\ni is 1\ni is 1\ni is 1\ni is 1\ni is 1\ni is 1\ni is 1\ni is 1\ni is 1\ni is 1\ni is 1\ni is 1\ni is 1\ni is 1\ni is 1\ni is 1\ni is 1\ni is 1\ni is 1\ni is 1\ni is 1\ni is 1\ni is 1\ni is 1\ni is 1\ni is 1\ni is 1\ni is 1\ni is 1\ni is 1\ni is 1\ni is 1\ni is 1\ni is 1\ni is 1\ni is 1\ni is 1\ni is 1\ni is 1\ni is 1\ni is 1\ni is 1\ni is 1\ni is 1\ni is 1\ni is 1\ni is 1\ni is 1\ni is 1\ni is 1\ni is 1\ni is 1\ni is 1\ni is 1\ni is 1\ni is 1\ni is 1\ni is 1\ni is 1\ni is 1\ni is 1\ni is 1\ni is 1\ni is 1\ni is 1\ni is 1\ni is 1\ni is 1\ni is 1\ni is 1\ni is 1\ni is 1\ni is 1\ni is 1\ni is 1\ni is 1\ni is 1\ni is 1\ni is 1\ni is 1\ni is 1\ni is 1\ni is 1\ni is 1\ni is 1\ni is 1\ni is 1\ni is 1\ni is 1\ni is 1\ni is 1\ni is 1\ni is 1\ni is 1\ni is 1\ni is 1\ni is 1\ni is 1\ni is 1\ni is 1\ni is 1\ni is 1\ni is 1\ni is 1\ni is 1\ni is 1\ni is 1\ni is 1\ni is 1\ni is 1\ni is 1\ni is 1\ni is 1\ni is 1\ni is 1\ni is 1\ni is 1\ni is 1\ni is 1\ni is 1\ni is 1\ni is 1\ni is 1\ni is 1\ni is 1\ni is 1\ni is 1\ni is 1\ni is 1\ni is 1\ni is 1\ni is 1\ni is 1\ni is 1\ni is 1\ni is 1\ni is 1\ni is 1\ni is 1\ni is 1\ni is 1\ni is 1\ni is 1\ni is 1\ni is 1\ni is 1\ni is 1\ni is 1\ni is 1\ni is 1\ni is 1\ni is 1\ni is 1\ni is 1\ni is 1\ni is 1\ni is 1\ni is 1\ni is 1\ni is 1\ni is 1\ni is 1\ni is 1\ni is 1\ni is 1\ni is 1\ni is 1\ni is 1\ni is 1\ni is 1\ni is 1\ni is 1\ni is 1\ni is 1\ni is 1\ni is 1\ni is 1\ni is 1\ni is 1\ni is 1\ni is 1\ni is 1\ni is 1\ni is 1\ni is 1\ni is 1\ni is 1\ni is 1\ni is 1\ni is 1\ni is 1\ni is 1\ni is 1\ni is 1\ni is 1\ni is 1\ni is 1\ni is 1\ni is 1\ni is 1\ni is 1\ni is 1\ni is 1\ni is 1\ni is 1\ni is 1\ni is 1\ni is 1\ni is 1\ni is 1\ni is 1\ni is 1\ni is 1\ni is 1\ni is 1\ni is 1\ni is 1\ni is 1\ni is 1\ni is 1\ni is 1\ni is 1\ni is 1\ni is 1\ni is 1\ni is 1\ni is 1\ni is 1\ni is 1\ni is 1\ni is 1\ni is 1\ni is 1\ni is 1\ni is 1\ni is 1\ni is 1\ni is 1\ni is 1\ni is 1\ni is 1\ni is 1\ni is 1\ni is 1\ni is 1\ni is 1\ni is 1\ni is 1\ni is 1\ni is 1\ni is 1\ni is 1\ni is 1\ni is 1\ni is 1\ni is 1\ni is 1\ni is 1\ni is 1\ni is 1\ni is 1\ni is 1\ni is 1\ni is 1\ni is 1\ni is 1\ni is 1\ni is 1\ni is 1\ni is 1\ni is 1\ni is 1\ni is 1\ni is 1\ni is 1\ni is 1\ni is 1\ni is 1\ni is 1\ni is 1\ni is 1\ni is 1\ni is 1\ni is 1\ni is 1\ni is 1\ni is 1\ni is 1\ni is 1\ni is 1\ni is 1\ni is 1\ni is 1\ni is 1\ni is 1\ni is 1\ni is 1\ni is 1\ni is 1\ni is 1\ni is 1\ni is 1\ni is 1\ni is 1\ni is 1\ni is 1\ni is 1\ni is 1\ni is 1\ni is 1\ni is 1\ni is 1\ni is 1\ni is 1\ni is 1\ni is 1\ni is 1\ni is 1\ni is 1\ni is 1\ni is 1\ni is 1\ni is 1\ni is 1\ni is 1\ni is 1\ni is 1\ni is 1\ni is 1\ni is 1\ni is 1\ni is 1\ni is 1\ni is 1\ni is 1\ni is 1\ni is 1\ni is 1\ni is 1\ni is 1\ni is 1\ni is 1\ni is 1\ni is 1\ni is 1\ni is 1\ni is 1\ni is 1\ni is 1\ni is 1\ni is 1\ni is 1\ni is 1\ni is 1\ni is 1\ni is 1\ni is 1\ni is 1\ni is 1\ni is 1\ni is 1\ni is 1\ni is 1\ni is 1\ni is 1\ni is 1\ni is 1\ni is 1\ni is 1\ni is 1\ni is 1\ni is 1\ni is 1\ni is 1\ni is 1\ni is 1\ni is 1\ni is 1\ni is 1\ni is 1\ni is 1\ni is 1\ni is 1\ni is 1\ni is 1\ni is 1\ni is 1\ni is 1\ni is 1\ni is 1\ni is 1\ni is 1\ni is 1\ni is 1\ni is 1\ni is 1\ni is 1\ni is 1\ni is 1\ni is 1\ni is 1\ni is 1\ni is 1\ni is 1\ni is 1\ni is 1\ni is 1\ni is 1\ni is 1\ni is 1\ni is 1\ni is 1\ni is 1\ni is 1\ni is 1\ni is 1\ni is 1\ni is 1\ni is 1\ni is 1\ni is 1\ni is 1\ni is 1\ni is 1\ni is 1\ni is 1\ni is 1\ni is 1\ni is 1\ni is 1\ni is 1\ni is 1\ni is 1\ni is 1\ni is 1\ni is 1\ni is 1\ni is 1\ni is 1\ni is 1\ni is 1\ni is 1\ni is 1\ni is 1\ni is 1\ni is 1\ni is 1\ni is 1\ni is 1\ni is 1\ni is 1\ni is 1\ni is 1\ni is 1\ni is 1\ni is 1\ni is 1\ni is 1\ni is 1\ni is 1\ni is 1\ni is 1\ni is 1\ni is 1\ni is 1\ni is 1\ni is 1\ni is 1\ni is 1\ni is 1\ni is 1\ni is 1\ni is 1\ni is 1\ni is 1\ni is 1\ni is 1\ni is 1\ni is 1\ni is 1\ni is 1\ni is 1\ni is 1\ni is 1\ni is 1\ni is 1\ni is 1\ni is 1\ni is 1\ni is 1\ni is 1\ni is 1\ni is 1\ni is 1\ni is 1\ni is 1\ni is 1\ni is 1\ni is 1\ni is 1\ni is 1\ni is 1\ni is 1\ni is 1\ni is 1\ni is 1\ni is 1\ni is 1\ni is 1\ni is 1\ni is 1\ni is 1\ni is 1\ni is 1\ni is 1\ni is 1\ni is 1\ni is 1\ni is 1\ni is 1\ni is 1\ni is 1\ni is 1\ni is 1\ni is 1\ni is 1\ni is 1\ni is 1\ni is 1\ni is 1\ni is 1\ni is 1\ni is 1\ni is 1\ni is 1\ni is 1\ni is 1\ni is 1\ni is 1\ni is 1\ni is 1\ni is 1\ni is 1\ni is 1\ni is 1\ni is 1\ni is 1\ni is 1\ni is 1\ni is 1\ni is 1\ni is 1\ni is 1\ni is 1\ni is 1\ni is 1\ni is 1\ni is 1\ni is 1\ni is 1\ni is 1\ni is 1\ni is 1\ni is 1\ni is 1\ni is 1\ni is 1\ni is 1\ni is 1\ni is 1\ni is 1\ni is 1\ni is 1\ni is 1\ni is 1\ni is 1\ni is 1\ni is 1\ni is 1\ni is 1\ni is 1\ni is 1\ni is 1\ni is 1\ni is 1\ni is 1\ni is 1\ni is 1\ni is 1\ni is 1\ni is 1\ni is 1\ni is 1\ni is 1\ni is 1\ni is 1\ni is 1\ni is 1\ni is 1\ni is 1\ni is 1\ni is 1\ni is 1\ni is 1\ni is 1\ni is 1\ni is 1\ni is 1\ni is 1\ni is 1\ni is 1\ni is 1\ni is 1\ni is 1\ni is 1\ni is 1\ni is 1\ni is 1\ni is 1\ni is 1\ni is 1\ni is 1\ni is 1\ni is 1\ni is 1\ni is 1\ni is 1\ni is 1\ni is 1\ni is 1\ni is 1\ni is 1\ni is 1\ni is 1\ni is 1\ni is 1\ni is 1\ni is 1\ni is 1\ni is 1\ni is 1\ni is 1\ni is 1\ni is 1\ni is 1\ni is 1\ni is 1\ni is 1\ni is 1\ni is 1\ni is 1\ni is 1\ni is 1\ni is 1\ni is 1\ni is 1\ni is 1\ni is 1\ni is 1\ni is 1\ni is 1\ni is 1\ni is 1\ni is 1\ni is 1\ni is 1\ni is 1\ni is 1\ni is 1\ni is 1\ni is 1\ni is 1\ni is 1\ni is 1\ni is 1\ni is 1\ni is 1\ni is 1\ni is 1\ni is 1\ni is 1\ni is 1\ni is 1\ni is 1\ni is 1\ni is 1\ni is 1\ni is 1\ni is 1\ni is 1\ni is 1\ni is 1\ni is 1\ni is 1\ni is 1\ni is 1\ni is 1\ni is 1\ni is 1\ni is 1\ni is 1\ni is 1\ni is 1\ni is 1\ni is 1\ni is 1\ni is 1\ni is 1\ni is 1\ni is 1\ni is 1\ni is 1\ni is 1\ni is 1\ni is 1\ni is 1\ni is 1\ni is 1\ni is 1\ni is 1\ni is 1\ni is 1\ni is 1\ni is 1\ni is 1\ni is 1\ni is 1\ni is 1\ni is 1\ni is 1\ni is 1\ni is 1\ni is 1\ni is 1\ni is 1\ni is 1\ni is 1\ni is 1\ni is 1\ni is 1\ni is 1\ni is 1\ni is 1\ni is 1\ni is 1\ni is 1\ni is 1\ni is 1\ni is 1\ni is 1\ni is 1\ni is 1\ni is 1\ni is 1\ni is 1\ni is 1\ni is 1\ni is 1\ni is 1\ni is 1\ni is 1\ni is 1\ni is 1\ni is 1\ni is 1\ni is 1\ni is 1\ni is 1\ni is 1\ni is 1\ni is 1\ni is 1\ni is 1\ni is 1\ni is 1\ni is 1\ni is 1\ni is 1\ni is 1\ni is 1\ni is 1\ni is 1\ni is 1\ni is 1\ni is 1\ni is 1\ni is 1\ni is 1\ni is 1\ni is 1\ni is 1\ni is 1\ni is 1\ni is 1\ni is 1\ni is 1\ni is 1\ni is 1\ni is 1\ni is 1\ni is 1\ni is 1\ni is 1\ni is 1\ni is 1\ni is 1\ni is 1\ni is 1\ni is 1\ni is 1\ni is 1\ni is 1\ni is 1\ni is 1\ni is 1\ni is 1\ni is 1\ni is 1\ni is 1\ni is 1\ni is 1\ni is 1\ni is 1\ni is 1\ni is 1\ni is 1\ni is 1\ni is 1\ni is 1\ni is 1\ni is 1\ni is 1\ni is 1\ni is 1\ni is 1\ni is 1\ni is 1\ni is 1\ni is 1\ni is 1\ni is 1\ni is 1\ni is 1\ni is 1\ni is 1\ni is 1\ni is 1\ni is 1\ni is 1\ni is 1\ni is 1\ni is 1\ni is 1\ni is 1\ni is 1\ni is 1\ni is 1\ni is 1\ni is 1\ni is 1\ni is 1\ni is 1\ni is 1\ni is 1\ni is 1\ni is 1\ni is 1\ni is 1\ni is 1\ni is 1\ni is 1\ni is 1\ni is 1\ni is 1\ni is 1\ni is 1\ni is 1\ni is 1\ni is 1\ni is 1\ni is 1\ni is 1\ni is 1\ni is 1\ni is 1\ni is 1\ni is 1\ni is 1\ni is 1\ni is 1\ni is 1\ni is 1\ni is 1\ni is 1\ni is 1\ni is 1\ni is 1\ni is 1\ni is 1\ni is 1\ni is 1\ni is 1\ni is 1\ni is 1\ni is 1\ni is 1\ni is 1\ni is 1\ni is 1\ni is 1\ni is 1\ni is 1\ni is 1\ni is 1\ni is 1\ni is 1\ni is 1\ni is 1\ni is 1\ni is 1\ni is 1\ni is 1\ni is 1\ni is 1\ni is 1\ni is 1\ni is 1\ni is 1\ni is 1\ni is 1\ni is 1\ni is 1\ni is 1\ni is 1\ni is 1\ni is 1\ni is 1\ni is 1\ni is 1\ni is 1\ni is 1\ni is 1\ni is 1\ni is 1\ni is 1\ni is 1\ni is 1\ni is 1\ni is 1\ni is 1\ni is 1\ni is 1\ni is 1\ni is 1\ni is 1\ni is 1\ni is 1\ni is 1\ni is 1\ni is 1\ni is 1\ni is 1\ni is 1\ni is 1\ni is 1\ni is 1\ni is 1\ni is 1\ni is 1\ni is 1\ni is 1\ni is 1\ni is 1\ni is 1\ni is 1\ni is 1\ni is 1\ni is 1\ni is 1\ni is 1\ni is 1\ni is 1\ni is 1\ni is 1\ni is 1\ni is 1\ni is 1\ni is 1\ni is 1\ni is 1\ni is 1\ni is 1\ni is 1\ni is 1\ni is 1\ni is 1\ni is 1\ni is 1\ni is 1\ni is 1\ni is 1\ni is 1\ni is 1\ni is 1\ni is 1\ni is 1\ni is 1\ni is 1\ni is 1\ni is 1\ni is 1\ni is 1\ni is 1\ni is 1\ni is 1\ni is 1\ni is 1\ni is 1\ni is 1\ni is 1\ni is 1\ni is 1\ni is 1\ni is 1\ni is 1\ni is 1\ni is 1\ni is 1\ni is 1\ni is 1\ni is 1\ni is 1\ni is 1\ni is 1\ni is 1\ni is 1\ni is 1\ni is 1\ni is 1\ni is 1\ni is 1\ni is 1\ni is 1\ni is 1\ni is 1\ni is 1\ni is 1\ni is 1\ni is 1\ni is 1\ni is 1\ni is 1\ni is 1\ni is 1\ni is 1\ni is 1\ni is 1\ni is 1\ni is 1\ni is 1\ni is 1\ni is 1\ni is 1\ni is 1\ni is 1\ni is 1\ni is 1\ni is 1\ni is 1\ni is 1\ni is 1\ni is 1\ni is 1\ni is 1\ni is 1\ni is 1\ni is 1\ni is 1\ni is 1\ni is 1\ni is 1\ni is 1\ni is 1\ni is 1\ni is 1\ni is 1\ni is 1\ni is 1\ni is 1\ni is 1\ni is 1\ni is 1\ni is 1\ni is 1\ni is 1\ni is 1\ni is 1\ni is 1\ni is 1\ni is 1\ni is 1\ni is 1\ni is 1\ni is 1\ni is 1\ni is 1\ni is 1\ni is 1\ni is 1\ni is 1\ni is 1\ni is 1\ni is 1\ni is 1\ni is 1\ni is 1\ni is 1\ni is 1\ni is 1\ni is 1\ni is 1\ni is 1\ni is 1\ni is 1\ni is 1\ni is 1\ni is 1\ni is 1\ni is 1\ni is 1\ni is 1\ni is 1\ni is 1\ni is 1\ni is 1\ni is 1\ni is 1\ni is 1\ni is 1\ni is 1\ni is 1\ni is 1\ni is 1\ni is 1\ni is 1\ni is 1\ni is 1\ni is 1\ni is 1\ni is 1\ni is 1\ni is 1\ni is 1\ni is 1\ni is 1\ni is 1\ni is 1\ni is 1\ni is 1\ni is 1\ni is 1\ni is 1\ni is 1\ni is 1\ni is 1\ni is 1\ni is 1\ni is 1\ni is 1\ni is 1\ni is 1\ni is 1\ni is 1\ni is 1\ni is 1\ni is 1\ni is 1\ni is 1\ni is 1\ni is 1\ni is 1\ni is 1\ni is 1\ni is 1\ni is 1\ni is 1\ni is 1\ni is 1\ni is 1\ni is 1\ni is 1\ni is 1\ni is 1\ni is 1\ni is 1\ni is 1\ni is 1\ni is 1\ni is 1\ni is 1\ni is 1\ni is 1\ni is 1\ni is 1\ni is 1\ni is 1\ni is 1\ni is 1\ni is 1\ni is 1\ni is 1\ni is 1\ni is 1\ni is 1\ni is 1\ni is 1\ni is 1\ni is 1\ni is 1\ni is 1\ni is 1\ni is 1\ni is 1\ni is 1\ni is 1\ni is 1\ni is 1\ni is 1\ni is 1\ni is 1\ni is 1\ni is 1\ni is 1\ni is 1\ni is 1\ni is 1\ni is 1\ni is 1\ni is 1\ni is 1\ni is 1\ni is 1\ni is 1\ni is 1\ni is 1\ni is 1\ni is 1\ni is 1\ni is 1\ni is 1\ni is 1\ni is 1\ni is 1\ni is 1\ni is 1\ni is 1\ni is 1\ni is 1\ni is 1\ni is 1\ni is 1\ni is 1\ni is 1\ni is 1\ni is 1\ni is 1\ni is 1\ni is 1\ni is 1\ni is 1\ni is 1\ni is 1\ni is 1\ni is 1\ni is 1\ni is 1\ni is 1\ni is 1\ni is 1\ni is 1\ni is 1\ni is 1\ni is 1\ni is 1\ni is 1\ni is 1\ni is 1\ni is 1\ni is 1\ni is 1\ni is 1\ni is 1\ni is 1\ni is 1\ni is 1\ni is 1\ni is 1\ni is 1\ni is 1\ni is 1\ni is 1\ni is 1\ni is 1\ni is 1\ni is 1\ni is 1\ni is 1\ni is 1\ni is 1\ni is 1\ni is 1\ni is 1\ni is 1\ni is 1\ni is 1\ni is 1\ni is 1\ni is 1\ni is 1\ni is 1\ni is 1\ni is 1\ni is 1\ni is 1\ni is 1\ni is 1\ni is 1\ni is 1\ni is 1\ni is 1\ni is 1\ni is 1\ni is 1\ni is 1\ni is 1\ni is 1\ni is 1\ni is 1\ni is 1\ni is 1\ni is 1\ni is 1\ni is 1\ni is 1\ni is 1\ni is 1\ni is 1\ni is 1\ni is 1\ni is 1\ni is 1\ni is 1\ni is 1\ni is 1\ni is 1\ni is 1\ni is 1\ni is 1\ni is 1\ni is 1\ni is 1\ni is 1\ni is 1\ni is 1\ni is 1\ni is 1\ni is 1\ni is 1\ni is 1\ni is 1\ni is 1\ni is 1\ni is 1\ni is 1\ni is 1\ni is 1\ni is 1\ni is 1\ni is 1\ni is 1\ni is 1\ni is 1\ni is 1\ni is 1\ni is 1\ni is 1\ni is 1\ni is 1\ni is 1\ni is 1\ni is 1\ni is 1\ni is 1\ni is 1\ni is 1\ni is 1\ni is 1\ni is 1\ni is 1\ni is 1\ni is 1\ni is 1\ni is 1\ni is 1\ni is 1\ni is 1\ni is 1\ni is 1\ni is 1\ni is 1\ni is 1\ni is 1\ni is 1\ni is 1\ni is 1\ni is 1\n"
    },
    {
     "output_type": "error",
     "ename": "KeyboardInterrupt",
     "evalue": "",
     "traceback": [
      "\u001b[0;31m---------------------------------------------------------------------------\u001b[0m",
      "\u001b[0;31mKeyboardInterrupt\u001b[0m                         Traceback (most recent call last)",
      "\u001b[0;32m<ipython-input-3-99a6355a6d48>\u001b[0m in \u001b[0;36m<module>\u001b[0;34m\u001b[0m\n\u001b[1;32m      3\u001b[0m \u001b[0mi\u001b[0m \u001b[0;34m=\u001b[0m \u001b[0;36m1\u001b[0m\u001b[0;34m\u001b[0m\u001b[0;34m\u001b[0m\u001b[0m\n\u001b[1;32m      4\u001b[0m \u001b[0;32mwhile\u001b[0m \u001b[0mi\u001b[0m \u001b[0;34m<\u001b[0m \u001b[0;36m5\u001b[0m\u001b[0;34m:\u001b[0m\u001b[0;34m\u001b[0m\u001b[0;34m\u001b[0m\u001b[0m\n\u001b[0;32m----> 5\u001b[0;31m     \u001b[0mprint\u001b[0m\u001b[0;34m(\u001b[0m\u001b[0;34m'i is {}'\u001b[0m\u001b[0;34m.\u001b[0m\u001b[0mformat\u001b[0m\u001b[0;34m(\u001b[0m\u001b[0mi\u001b[0m\u001b[0;34m)\u001b[0m\u001b[0;34m)\u001b[0m\u001b[0;34m\u001b[0m\u001b[0;34m\u001b[0m\u001b[0m\n\u001b[0m",
      "\u001b[0;31mKeyboardInterrupt\u001b[0m: "
     ]
    }
   ],
   "source": [
    "# And voila, it gives you the entire content of the list l\n",
    "# Now, let's use the while loop to do the same\n",
    "i = 1\n",
    "while i < 5:\n",
    "    print('i is {}'.format(i))"
   ]
  },
  {
   "cell_type": "code",
   "execution_count": 129,
   "metadata": {
    "tags": []
   },
   "outputs": [
    {
     "output_type": "stream",
     "name": "stdout",
     "text": "i is 1\ni is 2\ni is 3\ni is 4\n"
    }
   ],
   "source": [
    "# This is a jupyter feature, where it terminates the iteration manually when it encounters this, and it's very helpful for us. However, you shouldn't attempt this on a regular computer - especially a low -specced one, otherwise it would consume all the threads and may pose issues like freezing, RAM corruption or XZ compression halt.\n",
    "# Now, to counter the infinite loop, we'll do something like\n",
    "i = 1\n",
    "while i < 5:\n",
    "    print('i is {}'.format(i)) \n",
    "    i += 1"
   ]
  },
  {
   "cell_type": "code",
   "execution_count": 130,
   "metadata": {},
   "outputs": [],
   "source": [
    "# And now you see here, the scope of i is limited by the while condition check. The moment it reaches i = 5, while terminates the iteration and it jumps out of the control of the loop. Do note that this works only with entry controlled loops like for or while. There's do-while loop which works over exit control, and it would still print i is 5, despite that condition because it checks for condition handle after executing the boyd of the statement."
   ]
  },
  {
   "cell_type": "code",
   "execution_count": 133,
   "metadata": {},
   "outputs": [],
   "source": [
    "# Now although this may seem arbitrary, we'll discuss a couple of functions within python which are very essential, and these help a lot with data manipulation.\n",
    "# One such function is range. Many times, we have to iterate over a particular reference, but we don't know the length of that, in such cases, range plays a vital role. range function yields iteration from the initial index upto the final index. do note the final index isn't accounted for in the range function - something which we've seen a lot before in this paradigm."
   ]
  },
  {
   "cell_type": "code",
   "execution_count": 134,
   "metadata": {
    "tags": []
   },
   "outputs": [
    {
     "output_type": "stream",
     "name": "stdout",
     "text": "0\n1\n2\n3\n4\n"
    }
   ],
   "source": [
    "for i in range(0, 5):\n",
    "    print(i)"
   ]
  },
  {
   "cell_type": "code",
   "execution_count": 135,
   "metadata": {},
   "outputs": [],
   "source": [
    "# Here, as you'll see, the iterator runs from 0 (initial) to 4 (final - 1)"
   ]
  },
  {
   "cell_type": "code",
   "execution_count": 136,
   "metadata": {},
   "outputs": [
    {
     "output_type": "execute_result",
     "data": {
      "text/plain": "[0,\n 1,\n 2,\n 3,\n 4,\n 5,\n 6,\n 7,\n 8,\n 9,\n 10,\n 11,\n 12,\n 13,\n 14,\n 15,\n 16,\n 17,\n 18,\n 19,\n 20,\n 21,\n 22,\n 23,\n 24,\n 25,\n 26,\n 27,\n 28,\n 29,\n 30,\n 31,\n 32,\n 33,\n 34,\n 35,\n 36,\n 37,\n 38,\n 39,\n 40,\n 41,\n 42,\n 43,\n 44,\n 45,\n 46,\n 47,\n 48,\n 49,\n 50,\n 51,\n 52,\n 53,\n 54,\n 55,\n 56,\n 57,\n 58,\n 59,\n 60,\n 61,\n 62,\n 63,\n 64,\n 65,\n 66,\n 67,\n 68,\n 69,\n 70,\n 71,\n 72,\n 73,\n 74,\n 75,\n 76,\n 77,\n 78,\n 79,\n 80,\n 81,\n 82,\n 83,\n 84,\n 85,\n 86,\n 87,\n 88,\n 89,\n 90,\n 91,\n 92,\n 93,\n 94,\n 95,\n 96,\n 97,\n 98,\n 99,\n 100]"
     },
     "metadata": {},
     "execution_count": 136
    }
   ],
   "source": [
    "# This is a generator used as a short hand technique to iterate quickly over a particular ordeal. Let's say you want to generate a list of 1 to 100, then you can do that using list mask for the range from 0 to 101\n",
    "list(range(0, 101))"
   ]
  },
  {
   "cell_type": "code",
   "execution_count": 137,
   "metadata": {},
   "outputs": [],
   "source": [
    "# Now, let's talk about list comprehension. List comprehension helps you save a lot of coding space, by using smart rules to bypass iterator statements without having to write them. Let's take an example\n",
    "x = [1, 2, 3, 4]\n",
    "# We'll create an empty list out\n",
    "out = []\n",
    "for data in x:\n",
    "    out.append(data)"
   ]
  },
  {
   "cell_type": "code",
   "execution_count": 138,
   "metadata": {},
   "outputs": [
    {
     "output_type": "execute_result",
     "data": {
      "text/plain": "[1, 2, 3, 4]"
     },
     "metadata": {},
     "execution_count": 138
    }
   ],
   "source": [
    "out"
   ]
  },
  {
   "cell_type": "code",
   "execution_count": 141,
   "metadata": {},
   "outputs": [],
   "source": [
    "# Here, it took a long way to do that by means of loop and then further appending. List comprehension helps ease this out.\n",
    "# This sort of operation would be extremely common in Machine Learning because of appending weights, biases, or logics to a list. We can however easily translate this into list comprehension.\n",
    "out = [] # to nullify the out list\n",
    "out = [v for v in x] # You can also add operation here if you want to, like let's say the it should contain a table of n, then you can do n * v and it should print the table itself."
   ]
  },
  {
   "cell_type": "code",
   "execution_count": 140,
   "metadata": {},
   "outputs": [
    {
     "output_type": "execute_result",
     "data": {
      "text/plain": "[1, 2, 3, 4]"
     },
     "metadata": {},
     "execution_count": 140
    }
   ],
   "source": [
    "out"
   ]
  },
  {
   "cell_type": "code",
   "execution_count": 142,
   "metadata": {},
   "outputs": [],
   "source": [
    "# Now, it output the value of v in out list everytime it iterated over x lists's indexes. Again, you can do a lot of things with this if you have the idea of splitting data and then turning them into a short summary as per your convene."
   ]
  },
  {
   "cell_type": "code",
   "execution_count": 143,
   "metadata": {
    "tags": []
   },
   "outputs": [
    {
     "output_type": "stream",
     "name": "stdout",
     "text": "120\n"
    }
   ],
   "source": [
    "# Let's get over with functions. Functions are basically a way of reducing repitation of code that follow a certain blueprint to yield the desired value. They are instantiated with the use of def keyword followed by the function name and parameter list. Let's say you've to calculate the factorial of the entered number.\n",
    "def factorial(var):\n",
    "    fact = 1\n",
    "    for i in range(2, var + 1):\n",
    "        fact *= i\n",
    "    return fact\n",
    " # now this is the factorial function, if you want to calculate factorial of let's say 5, you can do this\n",
    "print(factorial(5))"
   ]
  },
  {
   "cell_type": "code",
   "execution_count": 148,
   "metadata": {
    "tags": []
   },
   "outputs": [
    {
     "output_type": "stream",
     "name": "stdout",
     "text": "Hello Yash\n"
    }
   ],
   "source": [
    "# If this was somehow a little complicated, you can try something like a more basic approach to it:\n",
    "def greet(name):\n",
    "    '''This is a documentation string - it greets to the name entered'''\n",
    "    print('Hello ' + name)\n",
    "\n",
    "greet('Yash')"
   ]
  },
  {
   "cell_type": "code",
   "execution_count": 149,
   "metadata": {},
   "outputs": [
    {
     "output_type": "execute_result",
     "data": {
      "text/plain": "<function __main__.greet(name)>"
     },
     "metadata": {},
     "execution_count": 149
    }
   ],
   "source": [
    "# Do understand that this is concatenation of strings.\n",
    "# Now to review a function statement, you can simply write the name and then press ctrl + space on any platform to show what kind of data it accepts and what it does. Let's try it on one of our predef functions-like factorial\n",
    "greet # It's essentially giving you the option to access the documentation and perhaps understand the reason why that function exists."
   ]
  },
  {
   "cell_type": "code",
   "execution_count": 150,
   "metadata": {},
   "outputs": [
    {
     "output_type": "execute_result",
     "data": {
      "text/plain": "range"
     },
     "metadata": {},
     "execution_count": 150
    }
   ],
   "source": [
    "# Let's try on a function that is pre-def in the python library, for example the range function\n",
    "range"
   ]
  },
  {
   "cell_type": "code",
   "execution_count": 152,
   "metadata": {},
   "outputs": [],
   "source": [
    "# Now we will discuss map and filter functions...\n",
    "# Remember the greet function which we defined just before which would print hello with the paramterized string passed to the function itself, we can reduce it to a more convenient expression using lambda representation.\n",
    "# First, let's start with map function. Let's create a list\n",
    "l = [1, 2, 3, 4]\n",
    "# Let's say I want to output all the elements of this list multiplied by themselves to another list. Remember list comprehension, we can do something like\n",
    "out = []\n",
    "out = [x*x for x in l]"
   ]
  },
  {
   "cell_type": "code",
   "execution_count": 153,
   "metadata": {},
   "outputs": [
    {
     "output_type": "execute_result",
     "data": {
      "text/plain": "[1, 4, 9, 16]"
     },
     "metadata": {},
     "execution_count": 153
    }
   ],
   "source": [
    "# And that will assign the square of each element from list l to the list out.\n",
    "out"
   ]
  },
  {
   "cell_type": "code",
   "execution_count": 154,
   "metadata": {},
   "outputs": [
    {
     "output_type": "execute_result",
     "data": {
      "text/plain": "map"
     },
     "metadata": {},
     "execution_count": 154
    }
   ],
   "source": [
    "# However, there's a much more accurate representation for this\n",
    "out = []\n",
    "# Let's reinitialize out to null list. To check with map, you can see the scope by typing map and then pressing Ctrl + Space\n",
    "map"
   ]
  },
  {
   "cell_type": "code",
   "execution_count": 155,
   "metadata": {},
   "outputs": [],
   "source": [
    "# Now, let's say we have a function that returns the square of the entered number, we can do something like\n",
    "def square(var):\n",
    "    return var*var"
   ]
  },
  {
   "cell_type": "code",
   "execution_count": 156,
   "metadata": {},
   "outputs": [],
   "source": [
    "l = [1, 2, 3, 4]"
   ]
  },
  {
   "cell_type": "code",
   "execution_count": 157,
   "metadata": {},
   "outputs": [
    {
     "output_type": "execute_result",
     "data": {
      "text/plain": "<map at 0x7efcdb0a7690>"
     },
     "metadata": {},
     "execution_count": 157
    }
   ],
   "source": [
    "# We have both the functions and the list now, now what we can do is very simple.\n",
    "map(square, l)"
   ]
  },
  {
   "cell_type": "code",
   "execution_count": 160,
   "metadata": {},
   "outputs": [],
   "source": [
    "# Now it created a map in that particular place in memory. Now to access the map as list, you can cast it as a list to another variable, let's say, the out list\n",
    "out = list(map(square, l))"
   ]
  },
  {
   "cell_type": "code",
   "execution_count": 161,
   "metadata": {},
   "outputs": [
    {
     "output_type": "execute_result",
     "data": {
      "text/plain": "[1, 4, 9, 16]"
     },
     "metadata": {},
     "execution_count": 161
    }
   ],
   "source": [
    "# Now if we output the out list here, we can see all the elements are squared here\n",
    "out"
   ]
  },
  {
   "cell_type": "code",
   "execution_count": 164,
   "metadata": {},
   "outputs": [],
   "source": [
    "# But, there's a slight concern here. See, that nomatter what, we still need to sort of define a function, shouldn't there be an easier way to accomplish this? Well, let's check that one out. That's where lambda expression comes in play.\n",
    "# Now that we have to write a function to calculate square, we can write that in one line using lambda expression.\n",
    "lambda var:var * var\n",
    "out = []\n",
    "# If we write this now, we can again get the same thing, but here - note that we're essentially using lambda expression"
   ]
  },
  {
   "cell_type": "code",
   "execution_count": 165,
   "metadata": {},
   "outputs": [],
   "source": [
    "# Since we don't have a function name for lambda expression, we can just assign it to any identifier here. For example\n",
    "f = lambda var:var*var\n",
    "out = list(map(f, l))"
   ]
  },
  {
   "cell_type": "code",
   "execution_count": 166,
   "metadata": {},
   "outputs": [
    {
     "output_type": "execute_result",
     "data": {
      "text/plain": "[1, 4, 9, 16]"
     },
     "metadata": {},
     "execution_count": 166
    }
   ],
   "source": [
    "# Again it's correct, and it will yield the list from lambda obtained from map function cast, and assign that to the out list, which we can output as\n",
    "out"
   ]
  },
  {
   "cell_type": "code",
   "execution_count": 167,
   "metadata": {},
   "outputs": [],
   "source": [
    "# Note that we can also write the expression itself within map instead of having to assign to a different variable, that is a redundant method for beginners to understand how the values flow over the course of the program, however for a learner, you can simply do that by writing it within map, lemme show you how. Let's take another empty identifier named sequence and populate it with values from map\n",
    "seq = list(map(lambda var:var*var, l))"
   ]
  },
  {
   "cell_type": "code",
   "execution_count": 168,
   "metadata": {},
   "outputs": [
    {
     "output_type": "execute_result",
     "data": {
      "text/plain": "[1, 4, 9, 16]"
     },
     "metadata": {},
     "execution_count": 168
    }
   ],
   "source": [
    "# Now, you can output seq as\n",
    "seq"
   ]
  },
  {
   "cell_type": "code",
   "execution_count": 173,
   "metadata": {},
   "outputs": [],
   "source": [
    "# These expressions are something that we'll use a lot especially when working with numpy or pandas.\n",
    "# Now lets discuss the filter function, it uses the same footprint as map, but has a different approach. Let's go ahead and call\n",
    "seq = list(filter(lambda num: num%2 == 0, l))\n",
    "# It will check whether the number in the list l satisfy the condition or not, and print only those out."
   ]
  },
  {
   "cell_type": "code",
   "execution_count": 174,
   "metadata": {},
   "outputs": [
    {
     "output_type": "execute_result",
     "data": {
      "text/plain": "[2, 4]"
     },
     "metadata": {},
     "execution_count": 174
    }
   ],
   "source": [
    "seq"
   ]
  },
  {
   "cell_type": "code",
   "execution_count": 175,
   "metadata": {},
   "outputs": [],
   "source": [
    "# We can have similar boolean expressions within filter which lists out those that satisfy a particular condition. Remember like map, filter also returns a filter at a given memory address which needs to be casted to the list reference type."
   ]
  },
  {
   "cell_type": "code",
   "execution_count": 176,
   "metadata": {},
   "outputs": [
    {
     "output_type": "execute_result",
     "data": {
      "text/plain": "['Hello', 'world']"
     },
     "metadata": {},
     "execution_count": 176
    }
   ],
   "source": [
    "# Now let's start working with methods. Methods are calls you can make to object that mutate or return the variable referencing in the reference object itself. Essentially, they're just predef functions with a native call works. Let's go with strings. We have\n",
    "string = 'Hello world'\n",
    "# Now, if we do a dot and tab, we can list all the functions pertaining to this object type\n",
    "string.split()"
   ]
  },
  {
   "cell_type": "code",
   "execution_count": 178,
   "metadata": {},
   "outputs": [
    {
     "output_type": "execute_result",
     "data": {
      "text/plain": "'HELLO WORLD'"
     },
     "metadata": {},
     "execution_count": 178
    }
   ],
   "source": [
    "# This will delimit the string and tokenize it to list type with whitesapce as the delimiter.\n",
    "# Similarly, although there's tonnes of functions, we don't have time to dive into that. So we can do\n",
    "string.upper()"
   ]
  },
  {
   "cell_type": "code",
   "execution_count": 181,
   "metadata": {},
   "outputs": [
    {
     "output_type": "execute_result",
     "data": {
      "text/plain": "['Hello world. This is ',\n 'wesome. Ple',\n \"se delimite by the letter '\",\n \"' when found\"]"
     },
     "metadata": {},
     "execution_count": 181
    }
   ],
   "source": [
    "# Which will give us upper casing and so on. Now, these may seem relatively feeble methods, however when working with NLP, case handling and co-referencing logistics, we can they're extremely valuable.\n",
    "# Do note that the split method for strings contains a dynamic delimiter tokenizer. What that means is it will take a random delimiter from your end, and then tokenize the texts based on that. Let's say we have a text like\n",
    "st = 'Hello world. This is awesome. Please delimite by the letter \\'a\\' when found'\n",
    "st.split('a')"
   ]
  },
  {
   "cell_type": "code",
   "execution_count": 183,
   "metadata": {},
   "outputs": [
    {
     "output_type": "execute_result",
     "data": {
      "text/plain": "[\"se delimite by the letter '\", \"' when found\"]"
     },
     "metadata": {},
     "execution_count": 183
    }
   ],
   "source": [
    "# So, as you can see, the sequence of characters is tokenized by the delimiter character a.. Now, since the split function returns a list, you can again do indexing on that\n",
    "st.split('a')[2:]"
   ]
  },
  {
   "cell_type": "code",
   "execution_count": 184,
   "metadata": {},
   "outputs": [
    {
     "output_type": "execute_result",
     "data": {
      "text/plain": "4"
     },
     "metadata": {},
     "execution_count": 184
    }
   ],
   "source": [
    "# And so on.\n",
    "# Similarly, let's say a sequence of numbers\n",
    "lst = [1, 2, 3, 4]\n",
    "# Now you can pop or push it. \n",
    "lst.pop()\n",
    "# And now the change is permanent"
   ]
  },
  {
   "cell_type": "code",
   "execution_count": 186,
   "metadata": {},
   "outputs": [
    {
     "output_type": "execute_result",
     "data": {
      "text/plain": "[1, 2, 3]"
     },
     "metadata": {},
     "execution_count": 186
    }
   ],
   "source": [
    "lst"
   ]
  },
  {
   "cell_type": "code",
   "execution_count": 187,
   "metadata": {},
   "outputs": [
    {
     "output_type": "execute_result",
     "data": {
      "text/plain": "2"
     },
     "metadata": {},
     "execution_count": 187
    }
   ],
   "source": [
    "# You can also provide an index to the pop method to pop a particular element at that index, like, to pop 2 from the above list, we can do\n",
    "lst.pop(1)"
   ]
  },
  {
   "cell_type": "code",
   "execution_count": 188,
   "metadata": {},
   "outputs": [
    {
     "output_type": "execute_result",
     "data": {
      "text/plain": "[1, 3]"
     },
     "metadata": {},
     "execution_count": 188
    }
   ],
   "source": [
    "lst"
   ]
  },
  {
   "cell_type": "code",
   "execution_count": 4,
   "metadata": {},
   "outputs": [],
   "source": [
    "# So this was upto the basics for python, so far does anyone have any doubt? If not, we'll proceed with data science tools now. In the current lecture, we'll try to incorporate numpy and matplotlib. Although be advised we won't be diving into machine learning at any point in this session. Once we're familiar with the good old functions and methods from all these libraries, we will start with machine learning in the next session. Coining at the top would be numpy, followed by matplotlib. One more thing to take into account here is - pandas somehow follows the same footprint as numpy, nd numpy is somehow a more robust library than pandas for memory management. However, pandas also have some amazing classes and functions that can be extremely useful in them. But that would be incorporated only when we discuss about Machine Learning, since the ones that would prove to be efficient right now would be in a different league.\n",
    "\n",
    "# So, let's start with numpy then. First, we'll be dealing with numpy arrays to have a basic understanding of why and how it is essential for data science.\n",
    "#Now, before I start numpy and other data science tools, I wanna preface this by saying learning these is entirely upto you, and from my understanding personally, it wouldn't matter much to learn packages and libs unless you have a strong base with DS, algorithms and other minimalist approaches to this language itself."
   ]
  },
  {
   "cell_type": "code",
   "execution_count": 3,
   "metadata": {},
   "outputs": [
    {
     "output_type": "execute_result",
     "data": {
      "text/plain": "array(['Hello', 'World', 'Computer'], dtype='<U8')"
     },
     "metadata": {},
     "execution_count": 3
    }
   ],
   "source": [
    "# Let's say we have a list of n elements\n",
    "import numpy as np\n",
    "lst = ['Hello', 'World', 'Computer']\n",
    "np.array(lst)"
   ]
  },
  {
   "cell_type": "code",
   "execution_count": 5,
   "metadata": {},
   "outputs": [
    {
     "output_type": "execute_result",
     "data": {
      "text/plain": "array([['1', '2', '3'],\n       ['Hello', 'World', 'Computers'],\n       ['2.5', '5.5', '7.5']], dtype='<U21')"
     },
     "metadata": {},
     "execution_count": 5
    }
   ],
   "source": [
    "# Here we obtain an array of the elements from the list with the data type of encoded utf8 standard characters. Similarly, we can cast a multi dimensional list to arrays\n",
    "lst = [[1, 2, 3], ['Hello', 'World', 'Computers'], [2.5, 5.5, 7.5]]\n",
    "np.array(lst)"
   ]
  },
  {
   "cell_type": "code",
   "execution_count": 6,
   "metadata": {},
   "outputs": [],
   "source": [
    "# Hence the 2 dimensional list is casted. However, we don't necessarily need to cast a list to np array, since numpy already holds a lot of inbuilt functions to generate massive scale data with very high efficiency and minimal mistakes. The function that numpy uses is called arange. Let's see, how that works"
   ]
  },
  {
   "cell_type": "code",
   "execution_count": 10,
   "metadata": {},
   "outputs": [
    {
     "output_type": "execute_result",
     "data": {
      "text/plain": "array([ 1,  3,  5,  7,  9, 11, 13, 15, 17, 19, 21, 23, 25, 27, 29, 31, 33,\n       35, 37, 39, 41, 43, 45, 47, 49, 51, 53, 55, 57, 59, 61, 63, 65, 67,\n       69, 71, 73, 75, 77, 79, 81, 83, 85, 87, 89, 91, 93, 95, 97, 99])"
     },
     "metadata": {},
     "execution_count": 10
    }
   ],
   "source": [
    "np.arange(1, 100, 2) # notice here that you've a start, a stop, and you can even add a step if you wish to. "
   ]
  },
  {
   "cell_type": "code",
   "execution_count": 11,
   "metadata": {},
   "outputs": [
    {
     "output_type": "execute_result",
     "data": {
      "text/plain": "array([ 1,  2,  3,  4,  5,  6,  7,  8,  9, 10, 11, 12, 13, 14, 15, 16, 17,\n       18, 19, 20, 21, 22, 23, 24, 25, 26, 27, 28, 29, 30, 31, 32, 33, 34,\n       35, 36, 37, 38, 39, 40, 41, 42, 43, 44, 45, 46, 47, 48, 49, 50, 51,\n       52, 53, 54, 55, 56, 57, 58, 59, 60, 61, 62, 63, 64, 65, 66, 67, 68,\n       69, 70, 71, 72, 73, 74, 75, 76, 77, 78, 79, 80, 81, 82, 83, 84, 85,\n       86, 87, 88, 89, 90, 91, 92, 93, 94, 95, 96, 97, 98, 99])"
     },
     "metadata": {},
     "execution_count": 11
    }
   ],
   "source": [
    "# And that fetches me an array of elements from 1 to 100 with 100 being the max limit and 1 being the min with a step deviation of 2 across each elements uniformly. Do note that even if we begin the array at 0 index, it still won't account for the upper limit, since python plays by the rule of inclusion of lower, and exclusion of upper.\n",
    "#If you don't wish to add an step, python will default it to 1, hence the variation would be a single dimensional array with elements with +1 succession. Like\n",
    "np.arange(1, 100)"
   ]
  },
  {
   "cell_type": "code",
   "execution_count": 13,
   "metadata": {},
   "outputs": [
    {
     "output_type": "execute_result",
     "data": {
      "text/plain": "array([0., 0., 0.])"
     },
     "metadata": {},
     "execution_count": 13
    }
   ],
   "source": [
    "# And so on.\n",
    "# For instance, if you wanna generate an array of just 0s, you can just input a single parameter to get a 1D array of just zeroes in floating. For example\n",
    "np.zeros(3)"
   ]
  },
  {
   "cell_type": "code",
   "execution_count": 14,
   "metadata": {},
   "outputs": [
    {
     "output_type": "execute_result",
     "data": {
      "text/plain": "array([[0., 0., 0., 0., 0.],\n       [0., 0., 0., 0., 0.],\n       [0., 0., 0., 0., 0.],\n       [0., 0., 0., 0., 0.],\n       [0., 0., 0., 0., 0.]])"
     },
     "metadata": {},
     "execution_count": 14
    }
   ],
   "source": [
    "# And that gives us 3 zeroes in a single row. Alternatively, you can pass a tuple in the function as a parameter, and it will create an array of 0s of the given dimension\n",
    "np.zeros((5, 5))"
   ]
  },
  {
   "cell_type": "code",
   "execution_count": 15,
   "metadata": {},
   "outputs": [
    {
     "output_type": "execute_result",
     "data": {
      "text/plain": "array([1., 1., 1., 1., 1.])"
     },
     "metadata": {},
     "execution_count": 15
    }
   ],
   "source": [
    "# Hence we obtain a 5x5 array of 0s. Similarly, if you want an array of 1s, you can do\n",
    "np.ones(5)"
   ]
  },
  {
   "cell_type": "code",
   "execution_count": 16,
   "metadata": {},
   "outputs": [
    {
     "output_type": "execute_result",
     "data": {
      "text/plain": "array([[1., 1., 1., 1., 1., 1., 1., 1., 1., 1.],\n       [1., 1., 1., 1., 1., 1., 1., 1., 1., 1.],\n       [1., 1., 1., 1., 1., 1., 1., 1., 1., 1.],\n       [1., 1., 1., 1., 1., 1., 1., 1., 1., 1.],\n       [1., 1., 1., 1., 1., 1., 1., 1., 1., 1.],\n       [1., 1., 1., 1., 1., 1., 1., 1., 1., 1.],\n       [1., 1., 1., 1., 1., 1., 1., 1., 1., 1.],\n       [1., 1., 1., 1., 1., 1., 1., 1., 1., 1.],\n       [1., 1., 1., 1., 1., 1., 1., 1., 1., 1.],\n       [1., 1., 1., 1., 1., 1., 1., 1., 1., 1.]])"
     },
     "metadata": {},
     "execution_count": 16
    }
   ],
   "source": [
    "# And there you have 5 1s in a row. Again, just like zeros let's say you want a 2D array of 1s of the order 10x10 \n",
    "np.ones((10, 10))"
   ]
  },
  {
   "cell_type": "code",
   "execution_count": 17,
   "metadata": {},
   "outputs": [],
   "source": [
    "# And that fetches us a 10 by 10 array of just 1s."
   ]
  },
  {
   "cell_type": "code",
   "execution_count": 18,
   "metadata": {},
   "outputs": [
    {
     "output_type": "execute_result",
     "data": {
      "text/plain": "array([0.        , 0.11111111, 0.22222222, 0.33333333, 0.44444444,\n       0.55555556, 0.66666667, 0.77777778, 0.88888889, 1.        ])"
     },
     "metadata": {},
     "execution_count": 18
    }
   ],
   "source": [
    "# Lets see linspace now. What linspace does is it accepts a limit and a number and divides the limit into equally distributed points of the given number. For example, let's say you want 10 equally spaced points between 0 to 1, in that case, what you can do is\n",
    "np.linspace(0, 1, 10)"
   ]
  },
  {
   "cell_type": "code",
   "execution_count": 19,
   "metadata": {},
   "outputs": [],
   "source": [
    "# Which gives you a limit variation from 0 to 1 without actually including 1. Do note that it's not directly incorporating 1 itself, because of the minimal variation. Now you can get as many elements as you want by varying the third argument which accounts for the number of evenly spaced elements in the array. Note that although this may look like a 2d array, but it's just a long 1D array, which you can tell by the number of blocks before and after the elements, which is just 1 in this case."
   ]
  },
  {
   "cell_type": "code",
   "execution_count": 20,
   "metadata": {},
   "outputs": [],
   "source": [
    "# Let's try creating an identity matrix using numpy. The function is called np.eye, and it takes just one argument - that is the number of rows or columns since they're equal in an identity matrix. Now, if you don't know what an identity matrix is, it's a basic matrix with all the non left to right top to bottom associated diagonal as 1, while the rest of the elements are zeros."
   ]
  },
  {
   "cell_type": "code",
   "execution_count": 21,
   "metadata": {},
   "outputs": [
    {
     "output_type": "execute_result",
     "data": {
      "text/plain": "array([[1., 0., 0.],\n       [0., 1., 0.],\n       [0., 0., 1.]])"
     },
     "metadata": {},
     "execution_count": 21
    }
   ],
   "source": [
    "np.eye(3)"
   ]
  },
  {
   "cell_type": "code",
   "execution_count": 22,
   "metadata": {},
   "outputs": [
    {
     "output_type": "execute_result",
     "data": {
      "text/plain": "array([0.7189704 , 0.75868386, 0.81523707, 0.74682824, 0.85570398])"
     },
     "metadata": {},
     "execution_count": 22
    }
   ],
   "source": [
    "# Hence, it gives a 2D identity matrix. NumPy also has a lot of ways to generate random numbers. the parent function is .random, which in itself contains a whole lot of random functions to generate random elements by various approaches. Let's start with the first one, \n",
    "np.random.rand(5)"
   ]
  },
  {
   "cell_type": "code",
   "execution_count": 23,
   "metadata": {},
   "outputs": [
    {
     "output_type": "execute_result",
     "data": {
      "text/plain": "array([[0.7637742 , 0.01656221, 0.32113758, 0.83735351],\n       [0.5610502 , 0.12194088, 0.54514645, 0.13387098],\n       [0.27466417, 0.68815472, 0.075787  , 0.45095732],\n       [0.84924298, 0.96810806, 0.07116346, 0.82992591]])"
     },
     "metadata": {},
     "execution_count": 23
    }
   ],
   "source": [
    "# What this does is it generates a 1D array of 5 elements, uniformly distributed within the range 0 to 1. Alternatively, to generate a 2D array, what you can do is pass the dimensions itself, and that'll populate that matrix with random elements between the limits 0 to 1\n",
    "np.random.rand(4, 4)"
   ]
  },
  {
   "cell_type": "code",
   "execution_count": 24,
   "metadata": {},
   "outputs": [
    {
     "output_type": "execute_result",
     "data": {
      "text/plain": "array([ 0.17576271, -0.69376674,  1.25763914,  0.26457487, -0.95323131])"
     },
     "metadata": {},
     "execution_count": 24
    }
   ],
   "source": [
    "# And this fetches us a 2D matrix of the order 4 by 4 with elements randing between 0 to 1\n",
    "# Now another order is to use the randn function. This won't fetch numbers from a uniform distribution, but a random distribution centered around 0\n",
    "np.random.randn(5)"
   ]
  },
  {
   "cell_type": "code",
   "execution_count": 25,
   "metadata": {},
   "outputs": [
    {
     "output_type": "execute_result",
     "data": {
      "text/plain": "array([[-2.49637204, -0.4569063 , -0.21409146, -0.38023534],\n       [-1.60426385, -0.07374532, -1.39923304,  0.5282606 ]])"
     },
     "metadata": {},
     "execution_count": 25
    }
   ],
   "source": [
    "# Now you can see the variance plot is both negative and positive, and doesn't ranges between any uniform distribution like we saw in the last one.\n",
    "# Similar to .rand function, you can give it a 2D parameter, and it will return you a 2D array similarly populated\n",
    "np.random.randn(2, 4)"
   ]
  },
  {
   "cell_type": "code",
   "execution_count": 26,
   "metadata": {},
   "outputs": [
    {
     "output_type": "execute_result",
     "data": {
      "text/plain": "4"
     },
     "metadata": {},
     "execution_count": 26
    }
   ],
   "source": [
    "# Hence we obtain the array\n",
    "# Now, there's a method to fetch a random number between a given limit, and that stands by the rule randint\n",
    "np.random.randint(0, 10)"
   ]
  },
  {
   "cell_type": "code",
   "execution_count": 6,
   "metadata": {},
   "outputs": [
    {
     "output_type": "execute_result",
     "data": {
      "text/plain": "array([6, 9, 8, 9, 7])"
     },
     "metadata": {},
     "execution_count": 6
    }
   ],
   "source": [
    "# Hence, it fetches from lowest inclusive and highest exclusive.\n",
    "# Again, you can overload this function to output n number of random integers across the given bounds\n",
    "import numpy as np\n",
    "np.random.randint(0, 10, 5)"
   ]
  },
  {
   "cell_type": "code",
   "execution_count": 8,
   "metadata": {},
   "outputs": [
    {
     "output_type": "execute_result",
     "data": {
      "text/plain": "array([ 0,  1,  2,  3,  4,  5,  6,  7,  8,  9, 10, 11, 12, 13, 14, 15, 16,\n       17, 18, 19, 20, 21, 22, 23, 24])"
     },
     "metadata": {},
     "execution_count": 8
    }
   ],
   "source": [
    "# And it gives us an array of numpy type containing integer elements.\n",
    "# Now to understand the aspects of numpy array, let's deal with some of those in more detail. Let's create an array \n",
    "arr = np.arange(25)\n",
    "arr"
   ]
  },
  {
   "cell_type": "code",
   "execution_count": 10,
   "metadata": {},
   "outputs": [
    {
     "output_type": "execute_result",
     "data": {
      "text/plain": "array([98, 68, 52, 53, 73, 38, 96, 36, 17,  1])"
     },
     "metadata": {},
     "execution_count": 10
    }
   ],
   "source": [
    "# And now create a random integer array with 10 elements from 0 to 100\n",
    "ranarr = np.random.randint(0, 100, 10)\n",
    "ranarr"
   ]
  },
  {
   "cell_type": "code",
   "execution_count": 11,
   "metadata": {},
   "outputs": [],
   "source": [
    "# And it's not sorted because it fetches random memory instances and uses a rule based approach to fetch specific data elements within the bounds specified. Now, one can technically predict the next random integer by analysing memtests, previous output mallocs and other things, but that's beyond the scope of this session, and at this point, well nothing more than a totally new aspect. So, we'll leave it at that. Proceeding further : we have an amazing function built into numpy for array dimensional transformations. It's the reshape function, and what it does is, it basically takes the array and converts it into a different dimenion transformation as specified by the user. Like, let's say we have arr as our array, now we can reshape it to a 2D array as"
   ]
  },
  {
   "cell_type": "code",
   "execution_count": 16,
   "metadata": {},
   "outputs": [
    {
     "output_type": "execute_result",
     "data": {
      "text/plain": "array([[ 0,  1,  2,  3,  4],\n       [ 5,  6,  7,  8,  9],\n       [10, 11, 12, 13, 14],\n       [15, 16, 17, 18, 19],\n       [20, 21, 22, 23, 24]])"
     },
     "metadata": {},
     "execution_count": 16
    }
   ],
   "source": [
    "arr.reshape(5, 5)"
   ]
  },
  {
   "cell_type": "code",
   "execution_count": 13,
   "metadata": {},
   "outputs": [],
   "source": [
    "# Which returns us a 2D matrix of order 5 by 5. Make sure, that the dimensions you provide must account for each and every element, and the bounds cannot under or overflow. For example, if I were to change reshape to let's say of the order 5, 10 that'd give us an error, because we would need 50 elements, and at present, our current data will underflow. Similarly, if we were to provide it with the bounds 5, 2, our current data will overflow and there'll be statistical loss."
   ]
  },
  {
   "cell_type": "code",
   "execution_count": 18,
   "metadata": {},
   "outputs": [
    {
     "output_type": "execute_result",
     "data": {
      "text/plain": "array([[ 0,  1,  2,  3,  4,  5,  6,  7,  8,  9, 10, 11, 12, 13, 14, 15,\n        16, 17, 18, 19, 20, 21, 22, 23, 24]])"
     },
     "metadata": {},
     "execution_count": 18
    }
   ],
   "source": [
    "# Now, to convert it back to a 1D array containing 25 elements, you can do\n",
    "arr.reshape(1, 25)"
   ]
  },
  {
   "cell_type": "code",
   "execution_count": 20,
   "metadata": {},
   "outputs": [],
   "source": [
    "# And that gives us our data in original form. Hence for any array having prime number of elements, it can only stay in 1 dimensional form."
   ]
  },
  {
   "cell_type": "code",
   "execution_count": 23,
   "metadata": {},
   "outputs": [
    {
     "output_type": "execute_result",
     "data": {
      "text/plain": "98"
     },
     "metadata": {},
     "execution_count": 23
    }
   ],
   "source": [
    "# Now to fetch the minimum and maximum element from the numpy array, what you can do is run these methods individually.\n",
    "ranarr.max()"
   ]
  },
  {
   "cell_type": "code",
   "execution_count": 22,
   "metadata": {},
   "outputs": [
    {
     "output_type": "execute_result",
     "data": {
      "text/plain": "1"
     },
     "metadata": {},
     "execution_count": 22
    }
   ],
   "source": [
    "ranarr.min()"
   ]
  },
  {
   "cell_type": "code",
   "execution_count": 24,
   "metadata": {},
   "outputs": [
    {
     "output_type": "execute_result",
     "data": {
      "text/plain": "array([98, 68, 52, 53, 73, 38, 96, 36, 17,  1])"
     },
     "metadata": {},
     "execution_count": 24
    }
   ],
   "source": [
    "# Let's look at the array itself\n",
    "ranarr"
   ]
  },
  {
   "cell_type": "code",
   "execution_count": 25,
   "metadata": {},
   "outputs": [
    {
     "output_type": "execute_result",
     "data": {
      "text/plain": "0"
     },
     "metadata": {},
     "execution_count": 25
    }
   ],
   "source": [
    "# Now to figure out the index of the max and min elements, we can use\n",
    "ranarr.argmax()"
   ]
  },
  {
   "cell_type": "code",
   "execution_count": 26,
   "metadata": {},
   "outputs": [
    {
     "output_type": "execute_result",
     "data": {
      "text/plain": "9"
     },
     "metadata": {},
     "execution_count": 26
    }
   ],
   "source": [
    "# Which gives us the index for the max element, you can use the same approach for min element\n",
    "ranarr.argmin()"
   ]
  },
  {
   "cell_type": "code",
   "execution_count": 30,
   "metadata": {},
   "outputs": [
    {
     "output_type": "execute_result",
     "data": {
      "text/plain": "(10,)"
     },
     "metadata": {},
     "execution_count": 30
    }
   ],
   "source": [
    "# Now, remember the reshape function. We transformed it only after knowing it's initial form. In case we aren't aware of the original shape, we might ask it to reload the same transformation, which may cause memory leaks and other factors. So, to check the current form of the array, we use the shape call without any parameter\n",
    "ranarr.shape"
   ]
  },
  {
   "cell_type": "code",
   "execution_count": 31,
   "metadata": {},
   "outputs": [],
   "source": [
    "# Let's try the reshape one more time to see the functioning"
   ]
  },
  {
   "cell_type": "code",
   "execution_count": 32,
   "metadata": {},
   "outputs": [
    {
     "output_type": "execute_result",
     "data": {
      "text/plain": "(5, 5)"
     },
     "metadata": {},
     "execution_count": 32
    }
   ],
   "source": [
    "(arr.reshape(5, 5)).shape"
   ]
  },
  {
   "cell_type": "code",
   "execution_count": 33,
   "metadata": {},
   "outputs": [],
   "source": [
    "# Now, we have the shape as 5, 5 for the given matrix."
   ]
  },
  {
   "cell_type": "code",
   "execution_count": 34,
   "metadata": {},
   "outputs": [],
   "source": [
    "# Let's focus on indexing array elements and how they are handled within numpy.\n",
    "arr = np.arange(0, 11)"
   ]
  },
  {
   "cell_type": "code",
   "execution_count": 35,
   "metadata": {},
   "outputs": [
    {
     "output_type": "execute_result",
     "data": {
      "text/plain": "5"
     },
     "metadata": {},
     "execution_count": 35
    }
   ],
   "source": [
    "# Now to get a single value at a particular index, you can just specify the index within square brackets, just like lists, and that'll fetch you the element corresponding to that particular location.\n",
    "arr[5]"
   ]
  },
  {
   "cell_type": "code",
   "execution_count": 36,
   "metadata": {},
   "outputs": [
    {
     "output_type": "execute_result",
     "data": {
      "text/plain": "array([5, 6, 7, 8])"
     },
     "metadata": {},
     "execution_count": 36
    }
   ],
   "source": [
    "# Similarly, we can use slice and open notations for fetching data to and from, or within a particular bound, for example\n",
    "arr[5:9]"
   ]
  },
  {
   "cell_type": "code",
   "execution_count": 37,
   "metadata": {},
   "outputs": [
    {
     "output_type": "execute_result",
     "data": {
      "text/plain": "array([ 2,  3,  4,  5,  6,  7,  8,  9, 10])"
     },
     "metadata": {},
     "execution_count": 37
    }
   ],
   "source": [
    "# Remember, the upper bound is excluded. For open notation\n",
    "arr[2:]"
   ]
  },
  {
   "cell_type": "code",
   "execution_count": 38,
   "metadata": {},
   "outputs": [],
   "source": [
    "# And it gives us all the elements from index 2 to the end."
   ]
  },
  {
   "cell_type": "code",
   "execution_count": 40,
   "metadata": {},
   "outputs": [],
   "source": [
    "# Note that this same slice notation can be used for iterative assignment of values in an array, for example, let's say you want the first 5 elements to have the value 20, then what you can do is\n",
    "arr[:5] = 20"
   ]
  },
  {
   "cell_type": "code",
   "execution_count": 41,
   "metadata": {},
   "outputs": [
    {
     "output_type": "execute_result",
     "data": {
      "text/plain": "array([20, 20, 20, 20, 20,  5,  6,  7,  8,  9, 10])"
     },
     "metadata": {},
     "execution_count": 41
    }
   ],
   "source": [
    "# And now if we print arr\n",
    "arr"
   ]
  },
  {
   "cell_type": "code",
   "execution_count": 44,
   "metadata": {},
   "outputs": [
    {
     "output_type": "execute_result",
     "data": {
      "text/plain": "array([ 0,  1,  2,  3,  4,  5,  6,  7,  8,  9, 10])"
     },
     "metadata": {},
     "execution_count": 44
    }
   ],
   "source": [
    "# And we have first 5 elements holding the value 20. Now there's one important view to the understanding of placeholder arrangement for memory data allocation in python. Let's just reformat our arr variable and populate it\n",
    "arr = np.arange(0, 11)\n",
    "arr"
   ]
  },
  {
   "cell_type": "code",
   "execution_count": 45,
   "metadata": {},
   "outputs": [],
   "source": [
    "# Now, let's take a variable v, and allocate to it - a slice of the elements\n",
    "v = arr[0:5]"
   ]
  },
  {
   "cell_type": "code",
   "execution_count": 46,
   "metadata": {},
   "outputs": [
    {
     "output_type": "execute_result",
     "data": {
      "text/plain": "array([0, 1, 2, 3, 4])"
     },
     "metadata": {},
     "execution_count": 46
    }
   ],
   "source": [
    "v"
   ]
  },
  {
   "cell_type": "code",
   "execution_count": 47,
   "metadata": {},
   "outputs": [],
   "source": [
    "# So, we have first 5 elements here, what we can do is use open notation to morph all of them\n",
    "v[:] = 10"
   ]
  },
  {
   "cell_type": "code",
   "execution_count": 49,
   "metadata": {},
   "outputs": [
    {
     "output_type": "execute_result",
     "data": {
      "text/plain": "array([10, 10, 10, 10, 10])"
     },
     "metadata": {},
     "execution_count": 49
    }
   ],
   "source": [
    "# And then if we print v\n",
    "v"
   ]
  },
  {
   "cell_type": "code",
   "execution_count": 50,
   "metadata": {},
   "outputs": [
    {
     "output_type": "execute_result",
     "data": {
      "text/plain": "array([10, 10, 10, 10, 10,  5,  6,  7,  8,  9, 10])"
     },
     "metadata": {},
     "execution_count": 50
    }
   ],
   "source": [
    "# But, when we print the original array arr itself\n",
    "arr"
   ]
  },
  {
   "cell_type": "code",
   "execution_count": 51,
   "metadata": {},
   "outputs": [],
   "source": [
    "# We see the first 5 elements in this are changed too. Now this is something very important. So, v wasn't technically acting as a variable, but a mimicking place holder for a slice of the elements of the array arr. So, whatever changes we administer to v, shall be reflected in the original array arr itself. And it is done to avoid memory corruption (on the software side) when dealing with large data.\n",
    "# Now, there's a way to bypass it incase you actually need a copy of those elements, and not just a reference to the memory location of the original array, what you can do is use the copy method. Lemme demonstrate :\n",
    "v = arr.copy()"
   ]
  },
  {
   "cell_type": "code",
   "execution_count": 52,
   "metadata": {},
   "outputs": [
    {
     "output_type": "execute_result",
     "data": {
      "text/plain": "array([10, 10, 10, 10, 10,  5,  6,  7,  8,  9, 10])"
     },
     "metadata": {},
     "execution_count": 52
    }
   ],
   "source": [
    "v"
   ]
  },
  {
   "cell_type": "code",
   "execution_count": 53,
   "metadata": {},
   "outputs": [],
   "source": [
    "# Now, if we make changes to v, that won't be reflected in the original array\n",
    "v[:] = 50"
   ]
  },
  {
   "cell_type": "code",
   "execution_count": 54,
   "metadata": {},
   "outputs": [
    {
     "output_type": "execute_result",
     "data": {
      "text/plain": "array([50, 50, 50, 50, 50, 50, 50, 50, 50, 50, 50])"
     },
     "metadata": {},
     "execution_count": 54
    }
   ],
   "source": [
    "v"
   ]
  },
  {
   "cell_type": "code",
   "execution_count": 56,
   "metadata": {},
   "outputs": [
    {
     "output_type": "execute_result",
     "data": {
      "text/plain": "array([10, 10, 10, 10, 10,  5,  6,  7,  8,  9, 10])"
     },
     "metadata": {},
     "execution_count": 56
    }
   ],
   "source": [
    "arr"
   ]
  },
  {
   "cell_type": "code",
   "execution_count": 57,
   "metadata": {},
   "outputs": [
    {
     "output_type": "execute_result",
     "data": {
      "text/plain": "array([[ 1,  2,  3,  4],\n       [ 5,  6,  7,  8],\n       [ 9, 10, 11, 12],\n       [13, 14, 15, 16]])"
     },
     "metadata": {},
     "execution_count": 57
    }
   ],
   "source": [
    "# And as you see, the original array is unaffected. Now if we start commemorating 2D arrays or matrix, the index follows a similar paradigm and something very relevant to what we have seen in lists so far. Let's create an array first\n",
    "arr = np.array([[1, 2, 3, 4], [5, 6, 7, 8], [9, 10, 11, 12], [13, 14, 15, 16]])\n",
    "arr"
   ]
  },
  {
   "cell_type": "code",
   "execution_count": 65,
   "metadata": {},
   "outputs": [
    {
     "output_type": "execute_result",
     "data": {
      "text/plain": "9"
     },
     "metadata": {},
     "execution_count": 65
    }
   ],
   "source": [
    "# So we have a 4 by 4 2d array or a matrix of the order 4 by 4. If we want to access an element let's say - 9. We take into account the row_index it is at - that'd be 2, and the column index which is 0 for 9. So \n",
    "arr[2][0]"
   ]
  },
  {
   "cell_type": "code",
   "execution_count": 67,
   "metadata": {},
   "outputs": [
    {
     "output_type": "execute_result",
     "data": {
      "text/plain": "9"
     },
     "metadata": {},
     "execution_count": 67
    }
   ],
   "source": [
    "# There's one more variation to this approach, instead of double brackets notation, we can include the indexes in a single bracket too.\n",
    "arr[2, 0]"
   ]
  },
  {
   "cell_type": "code",
   "execution_count": 62,
   "metadata": {},
   "outputs": [
    {
     "output_type": "execute_result",
     "data": {
      "text/plain": "array([[ 9, 10, 11, 12],\n       [13, 14, 15, 16]])"
     },
     "metadata": {},
     "execution_count": 62
    }
   ],
   "source": [
    "# And that fetches us the elment 9. We can also do slice and open notation in this just like 1D array.\n",
    "arr[2:][0:]"
   ]
  },
  {
   "cell_type": "code",
   "execution_count": 63,
   "metadata": {},
   "outputs": [],
   "source": [
    "# Now, in this case. the indexes are remapped. Let's say you picked nth row, then the second notation begins from 0 for that particular row itself. Then it starts considering the current row at the header to be row 0 and then so on for the succeeding rows. It doesn't takes into account the previous row data."
   ]
  },
  {
   "cell_type": "code",
   "execution_count": 71,
   "metadata": {},
   "outputs": [
    {
     "output_type": "execute_result",
     "data": {
      "text/plain": "array([[7]])"
     },
     "metadata": {},
     "execution_count": 71
    }
   ],
   "source": [
    "# For single brackets approach in 2D array, we can use slice notation as ... Let's say we wanna access the elements from 1st and 2nd column, and 2nd and 3rd rows\n",
    "arr[1:2, 2:3]"
   ]
  },
  {
   "cell_type": "code",
   "execution_count": 72,
   "metadata": {},
   "outputs": [
    {
     "output_type": "execute_result",
     "data": {
      "text/plain": "array([[1, 2, 3],\n       [5, 6, 7]])"
     },
     "metadata": {},
     "execution_count": 72
    }
   ],
   "source": [
    "# Similarly, open notation is applicable too\n",
    "arr[:2, :3]"
   ]
  },
  {
   "cell_type": "code",
   "execution_count": 73,
   "metadata": {},
   "outputs": [],
   "source": [
    "# Which would eliminate the third column index, or the 4th column (in counting numbers) statistically."
   ]
  },
  {
   "cell_type": "code",
   "execution_count": 76,
   "metadata": {},
   "outputs": [
    {
     "output_type": "execute_result",
     "data": {
      "text/plain": "array([ 0,  1,  2,  3,  4,  5,  6,  7,  8,  9, 10])"
     },
     "metadata": {},
     "execution_count": 76
    }
   ],
   "source": [
    "# Let's reset our array once again, \n",
    "arr = np.arange(0, 11)\n",
    "arr"
   ]
  },
  {
   "cell_type": "code",
   "execution_count": 75,
   "metadata": {},
   "outputs": [
    {
     "output_type": "execute_result",
     "data": {
      "text/plain": "array([False, False, False, False, False, False,  True,  True,  True,\n        True,  True])"
     },
     "metadata": {},
     "execution_count": 75
    }
   ],
   "source": [
    "# Now, if you want an array of boolean certifying a probable condition, let's say I want a corresponding boolean array to the previous array we have which is arr, and those boolean data elements will hold True or False for a particular condition referencing to this array, so lemme show you what this means\n",
    "b_arr = arr > 5\n",
    "b_arr"
   ]
  },
  {
   "cell_type": "code",
   "execution_count": 77,
   "metadata": {},
   "outputs": [
    {
     "output_type": "execute_result",
     "data": {
      "text/plain": "array([ 6,  7,  8,  9, 10])"
     },
     "metadata": {},
     "execution_count": 77
    }
   ],
   "source": [
    "# So, what it does is it evaluates or maps the condition which we supplied recursively to all the elements of the array arr, and fetches the boolean at the same index to yet another boolean array b_arr. And that's how you obtain a boolean array data.\n",
    "# What benefits us the most is that the original array remembers the mapping of the condition, and if we pass the boolean array data into the original array, it fetches us only those elements which satisfy the condition. Like\n",
    "arr[b_arr]"
   ]
  },
  {
   "cell_type": "code",
   "execution_count": 79,
   "metadata": {},
   "outputs": [],
   "source": [
    "# And only these elements were greater than 5, hence returned as a list."
   ]
  },
  {
   "cell_type": "code",
   "execution_count": 80,
   "metadata": {},
   "outputs": [
    {
     "output_type": "execute_result",
     "data": {
      "text/plain": "array([0, 1, 2])"
     },
     "metadata": {},
     "execution_count": 80
    }
   ],
   "source": [
    "# Alternatively if that boolean array isn't required in some circumstances, you may directly pass the condition within the array itself. For example,\n",
    "arr[arr < 3]"
   ]
  },
  {
   "cell_type": "code",
   "execution_count": 81,
   "metadata": {},
   "outputs": [],
   "source": [
    "# And that evaluates the elements in particular by that condition - and this sort of use case is extremely used in ML and other data processing rule based approaches. And that's it for numpy on this session. You can ho ahead, and experiment with various operators on numpy, like finding power of each element in the array using exponential variations, mapping conditions to arrays, playing with placeholders and stuff."
   ]
  },
  {
   "cell_type": "code",
   "execution_count": 83,
   "metadata": {
    "tags": []
   },
   "outputs": [],
   "source": [
    "# Now we'll be learning a data visualization tool called matplotlib which is extensively and adaptively used in the data science world. It is a plotting library used to plot a specific range sepctrum from mathematical analysis to visual form. It inherits it's design and approach from MatLab's graphical plotting rule. It works well with numpy and pandas. Although matplotlib is a famous lib, there's essentially a lot more libraries out there like seaborn and stuff which are technically built over numpy. Installation on your system could be done with either anaconda or pip. Do note on linux or mac, it's very bad to run pip under root or with sudo. But that's out of scope for this session, so just wanna point that out - that you shouldn't be doing it. You can view it's documentation - as they contain numerous types of plot types to ensure any and every form of equation can have a visual representative header."
   ]
  },
  {
   "cell_type": "code",
   "execution_count": 85,
   "metadata": {},
   "outputs": [],
   "source": [
    "# Now to begin with the first thing you would want to do is call or import it to your program.\n",
    "import matplotlib.pyplot as plt"
   ]
  },
  {
   "cell_type": "code",
   "execution_count": 87,
   "metadata": {},
   "outputs": [],
   "source": [
    "# Okay, so now that's imported, we will add another line\n",
    "%matplotlib inline\n",
    "# What this does is it permits us to visualize all the plots within this form without having to assign it to a different variable and call it especially when using something like jupyter notebook or any code editor that supports ipynb formatting."
   ]
  },
  {
   "cell_type": "code",
   "execution_count": 88,
   "metadata": {},
   "outputs": [],
   "source": [
    "# In case you're not using some editor that supports formatting, you can always use plt.show() at the end of your codebase. Which we'll demonstrate in a few."
   ]
  },
  {
   "cell_type": "code",
   "execution_count": 91,
   "metadata": {},
   "outputs": [
    {
     "output_type": "execute_result",
     "data": {
      "text/plain": "array([1.        , 1.44444444, 1.88888889, 2.33333333, 2.77777778,\n       3.22222222, 3.66666667, 4.11111111, 4.55555556, 5.        ])"
     },
     "metadata": {},
     "execution_count": 91
    }
   ],
   "source": [
    "# So, let's import numpy once again, although it's already imported, but can't hurt - just to visualize the basics.\n",
    "import numpy as np\n",
    "x = np.linspace(1, 5, 10) # which will fetch us 10 equally placed deviation points from 1 to 5\n",
    "x"
   ]
  },
  {
   "cell_type": "code",
   "execution_count": 92,
   "metadata": {},
   "outputs": [
    {
     "output_type": "execute_result",
     "data": {
      "text/plain": "array([1.00000000e+00, 6.28787956e+00, 2.40454030e+01, 6.91646091e+01,\n       1.65381717e+02, 3.47358109e+02, 6.62761317e+02, 1.17434600e+03,\n       1.96203494e+03, 3.12500000e+03])"
     },
     "metadata": {},
     "execution_count": 92
    }
   ],
   "source": [
    "y = x**5\n",
    "y"
   ]
  },
  {
   "cell_type": "code",
   "execution_count": 93,
   "metadata": {},
   "outputs": [],
   "source": [
    "# Now, we just calculated another array holding elements of the array x raised to the power 5. Now, there's many ways of creating a plot in matploblib. The two most common and widely adapted approaches are functional and object oriented."
   ]
  },
  {
   "cell_type": "code",
   "execution_count": 95,
   "metadata": {},
   "outputs": [
    {
     "output_type": "execute_result",
     "data": {
      "text/plain": "[<matplotlib.lines.Line2D at 0x7f7461f10c90>]"
     },
     "metadata": {},
     "execution_count": 95
    },
    {
     "output_type": "display_data",
     "data": {
      "text/plain": "<Figure size 432x288 with 1 Axes>",
      "image/svg+xml": "<?xml version=\"1.0\" encoding=\"utf-8\" standalone=\"no\"?>\n<!DOCTYPE svg PUBLIC \"-//W3C//DTD SVG 1.1//EN\"\n  \"http://www.w3.org/Graphics/SVG/1.1/DTD/svg11.dtd\">\n<!-- Created with matplotlib (https://matplotlib.org/) -->\n<svg height=\"248.518125pt\" version=\"1.1\" viewBox=\"0 0 381.65 248.518125\" width=\"381.65pt\" xmlns=\"http://www.w3.org/2000/svg\" xmlns:xlink=\"http://www.w3.org/1999/xlink\">\n <defs>\n  <style type=\"text/css\">\n*{stroke-linecap:butt;stroke-linejoin:round;}\n  </style>\n </defs>\n <g id=\"figure_1\">\n  <g id=\"patch_1\">\n   <path d=\"M -0 248.518125 \nL 381.65 248.518125 \nL 381.65 0 \nL -0 0 \nz\n\" style=\"fill:none;\"/>\n  </g>\n  <g id=\"axes_1\">\n   <g id=\"patch_2\">\n    <path d=\"M 39.65 224.64 \nL 374.45 224.64 \nL 374.45 7.2 \nL 39.65 7.2 \nz\n\" style=\"fill:#ffffff;\"/>\n   </g>\n   <g id=\"matplotlib.axis_1\">\n    <g id=\"xtick_1\">\n     <g id=\"line2d_1\">\n      <defs>\n       <path d=\"M 0 0 \nL 0 3.5 \n\" id=\"m8fe071851e\" style=\"stroke:#000000;stroke-width:0.8;\"/>\n      </defs>\n      <g>\n       <use style=\"stroke:#000000;stroke-width:0.8;\" x=\"54.868182\" xlink:href=\"#m8fe071851e\" y=\"224.64\"/>\n      </g>\n     </g>\n     <g id=\"text_1\">\n      <!-- 1.0 -->\n      <defs>\n       <path d=\"M 12.40625 8.296875 \nL 28.515625 8.296875 \nL 28.515625 63.921875 \nL 10.984375 60.40625 \nL 10.984375 69.390625 \nL 28.421875 72.90625 \nL 38.28125 72.90625 \nL 38.28125 8.296875 \nL 54.390625 8.296875 \nL 54.390625 0 \nL 12.40625 0 \nz\n\" id=\"DejaVuSans-49\"/>\n       <path d=\"M 10.6875 12.40625 \nL 21 12.40625 \nL 21 0 \nL 10.6875 0 \nz\n\" id=\"DejaVuSans-46\"/>\n       <path d=\"M 31.78125 66.40625 \nQ 24.171875 66.40625 20.328125 58.90625 \nQ 16.5 51.421875 16.5 36.375 \nQ 16.5 21.390625 20.328125 13.890625 \nQ 24.171875 6.390625 31.78125 6.390625 \nQ 39.453125 6.390625 43.28125 13.890625 \nQ 47.125 21.390625 47.125 36.375 \nQ 47.125 51.421875 43.28125 58.90625 \nQ 39.453125 66.40625 31.78125 66.40625 \nz\nM 31.78125 74.21875 \nQ 44.046875 74.21875 50.515625 64.515625 \nQ 56.984375 54.828125 56.984375 36.375 \nQ 56.984375 17.96875 50.515625 8.265625 \nQ 44.046875 -1.421875 31.78125 -1.421875 \nQ 19.53125 -1.421875 13.0625 8.265625 \nQ 6.59375 17.96875 6.59375 36.375 \nQ 6.59375 54.828125 13.0625 64.515625 \nQ 19.53125 74.21875 31.78125 74.21875 \nz\n\" id=\"DejaVuSans-48\"/>\n      </defs>\n      <g transform=\"translate(46.916619 239.238437)scale(0.1 -0.1)\">\n       <use xlink:href=\"#DejaVuSans-49\"/>\n       <use x=\"63.623047\" xlink:href=\"#DejaVuSans-46\"/>\n       <use x=\"95.410156\" xlink:href=\"#DejaVuSans-48\"/>\n      </g>\n     </g>\n    </g>\n    <g id=\"xtick_2\">\n     <g id=\"line2d_2\">\n      <g>\n       <use style=\"stroke:#000000;stroke-width:0.8;\" x=\"92.913636\" xlink:href=\"#m8fe071851e\" y=\"224.64\"/>\n      </g>\n     </g>\n     <g id=\"text_2\">\n      <!-- 1.5 -->\n      <defs>\n       <path d=\"M 10.796875 72.90625 \nL 49.515625 72.90625 \nL 49.515625 64.59375 \nL 19.828125 64.59375 \nL 19.828125 46.734375 \nQ 21.96875 47.46875 24.109375 47.828125 \nQ 26.265625 48.1875 28.421875 48.1875 \nQ 40.625 48.1875 47.75 41.5 \nQ 54.890625 34.8125 54.890625 23.390625 \nQ 54.890625 11.625 47.5625 5.09375 \nQ 40.234375 -1.421875 26.90625 -1.421875 \nQ 22.3125 -1.421875 17.546875 -0.640625 \nQ 12.796875 0.140625 7.71875 1.703125 \nL 7.71875 11.625 \nQ 12.109375 9.234375 16.796875 8.0625 \nQ 21.484375 6.890625 26.703125 6.890625 \nQ 35.15625 6.890625 40.078125 11.328125 \nQ 45.015625 15.765625 45.015625 23.390625 \nQ 45.015625 31 40.078125 35.4375 \nQ 35.15625 39.890625 26.703125 39.890625 \nQ 22.75 39.890625 18.8125 39.015625 \nQ 14.890625 38.140625 10.796875 36.28125 \nz\n\" id=\"DejaVuSans-53\"/>\n      </defs>\n      <g transform=\"translate(84.962074 239.238437)scale(0.1 -0.1)\">\n       <use xlink:href=\"#DejaVuSans-49\"/>\n       <use x=\"63.623047\" xlink:href=\"#DejaVuSans-46\"/>\n       <use x=\"95.410156\" xlink:href=\"#DejaVuSans-53\"/>\n      </g>\n     </g>\n    </g>\n    <g id=\"xtick_3\">\n     <g id=\"line2d_3\">\n      <g>\n       <use style=\"stroke:#000000;stroke-width:0.8;\" x=\"130.959091\" xlink:href=\"#m8fe071851e\" y=\"224.64\"/>\n      </g>\n     </g>\n     <g id=\"text_3\">\n      <!-- 2.0 -->\n      <defs>\n       <path d=\"M 19.1875 8.296875 \nL 53.609375 8.296875 \nL 53.609375 0 \nL 7.328125 0 \nL 7.328125 8.296875 \nQ 12.9375 14.109375 22.625 23.890625 \nQ 32.328125 33.6875 34.8125 36.53125 \nQ 39.546875 41.84375 41.421875 45.53125 \nQ 43.3125 49.21875 43.3125 52.78125 \nQ 43.3125 58.59375 39.234375 62.25 \nQ 35.15625 65.921875 28.609375 65.921875 \nQ 23.96875 65.921875 18.8125 64.3125 \nQ 13.671875 62.703125 7.8125 59.421875 \nL 7.8125 69.390625 \nQ 13.765625 71.78125 18.9375 73 \nQ 24.125 74.21875 28.421875 74.21875 \nQ 39.75 74.21875 46.484375 68.546875 \nQ 53.21875 62.890625 53.21875 53.421875 \nQ 53.21875 48.921875 51.53125 44.890625 \nQ 49.859375 40.875 45.40625 35.40625 \nQ 44.1875 33.984375 37.640625 27.21875 \nQ 31.109375 20.453125 19.1875 8.296875 \nz\n\" id=\"DejaVuSans-50\"/>\n      </defs>\n      <g transform=\"translate(123.007528 239.238437)scale(0.1 -0.1)\">\n       <use xlink:href=\"#DejaVuSans-50\"/>\n       <use x=\"63.623047\" xlink:href=\"#DejaVuSans-46\"/>\n       <use x=\"95.410156\" xlink:href=\"#DejaVuSans-48\"/>\n      </g>\n     </g>\n    </g>\n    <g id=\"xtick_4\">\n     <g id=\"line2d_4\">\n      <g>\n       <use style=\"stroke:#000000;stroke-width:0.8;\" x=\"169.004545\" xlink:href=\"#m8fe071851e\" y=\"224.64\"/>\n      </g>\n     </g>\n     <g id=\"text_4\">\n      <!-- 2.5 -->\n      <g transform=\"translate(161.052983 239.238437)scale(0.1 -0.1)\">\n       <use xlink:href=\"#DejaVuSans-50\"/>\n       <use x=\"63.623047\" xlink:href=\"#DejaVuSans-46\"/>\n       <use x=\"95.410156\" xlink:href=\"#DejaVuSans-53\"/>\n      </g>\n     </g>\n    </g>\n    <g id=\"xtick_5\">\n     <g id=\"line2d_5\">\n      <g>\n       <use style=\"stroke:#000000;stroke-width:0.8;\" x=\"207.05\" xlink:href=\"#m8fe071851e\" y=\"224.64\"/>\n      </g>\n     </g>\n     <g id=\"text_5\">\n      <!-- 3.0 -->\n      <defs>\n       <path d=\"M 40.578125 39.3125 \nQ 47.65625 37.796875 51.625 33 \nQ 55.609375 28.21875 55.609375 21.1875 \nQ 55.609375 10.40625 48.1875 4.484375 \nQ 40.765625 -1.421875 27.09375 -1.421875 \nQ 22.515625 -1.421875 17.65625 -0.515625 \nQ 12.796875 0.390625 7.625 2.203125 \nL 7.625 11.71875 \nQ 11.71875 9.328125 16.59375 8.109375 \nQ 21.484375 6.890625 26.8125 6.890625 \nQ 36.078125 6.890625 40.9375 10.546875 \nQ 45.796875 14.203125 45.796875 21.1875 \nQ 45.796875 27.640625 41.28125 31.265625 \nQ 36.765625 34.90625 28.71875 34.90625 \nL 20.21875 34.90625 \nL 20.21875 43.015625 \nL 29.109375 43.015625 \nQ 36.375 43.015625 40.234375 45.921875 \nQ 44.09375 48.828125 44.09375 54.296875 \nQ 44.09375 59.90625 40.109375 62.90625 \nQ 36.140625 65.921875 28.71875 65.921875 \nQ 24.65625 65.921875 20.015625 65.03125 \nQ 15.375 64.15625 9.8125 62.3125 \nL 9.8125 71.09375 \nQ 15.4375 72.65625 20.34375 73.4375 \nQ 25.25 74.21875 29.59375 74.21875 \nQ 40.828125 74.21875 47.359375 69.109375 \nQ 53.90625 64.015625 53.90625 55.328125 \nQ 53.90625 49.265625 50.4375 45.09375 \nQ 46.96875 40.921875 40.578125 39.3125 \nz\n\" id=\"DejaVuSans-51\"/>\n      </defs>\n      <g transform=\"translate(199.098438 239.238437)scale(0.1 -0.1)\">\n       <use xlink:href=\"#DejaVuSans-51\"/>\n       <use x=\"63.623047\" xlink:href=\"#DejaVuSans-46\"/>\n       <use x=\"95.410156\" xlink:href=\"#DejaVuSans-48\"/>\n      </g>\n     </g>\n    </g>\n    <g id=\"xtick_6\">\n     <g id=\"line2d_6\">\n      <g>\n       <use style=\"stroke:#000000;stroke-width:0.8;\" x=\"245.095455\" xlink:href=\"#m8fe071851e\" y=\"224.64\"/>\n      </g>\n     </g>\n     <g id=\"text_6\">\n      <!-- 3.5 -->\n      <g transform=\"translate(237.143892 239.238437)scale(0.1 -0.1)\">\n       <use xlink:href=\"#DejaVuSans-51\"/>\n       <use x=\"63.623047\" xlink:href=\"#DejaVuSans-46\"/>\n       <use x=\"95.410156\" xlink:href=\"#DejaVuSans-53\"/>\n      </g>\n     </g>\n    </g>\n    <g id=\"xtick_7\">\n     <g id=\"line2d_7\">\n      <g>\n       <use style=\"stroke:#000000;stroke-width:0.8;\" x=\"283.140909\" xlink:href=\"#m8fe071851e\" y=\"224.64\"/>\n      </g>\n     </g>\n     <g id=\"text_7\">\n      <!-- 4.0 -->\n      <defs>\n       <path d=\"M 37.796875 64.3125 \nL 12.890625 25.390625 \nL 37.796875 25.390625 \nz\nM 35.203125 72.90625 \nL 47.609375 72.90625 \nL 47.609375 25.390625 \nL 58.015625 25.390625 \nL 58.015625 17.1875 \nL 47.609375 17.1875 \nL 47.609375 0 \nL 37.796875 0 \nL 37.796875 17.1875 \nL 4.890625 17.1875 \nL 4.890625 26.703125 \nz\n\" id=\"DejaVuSans-52\"/>\n      </defs>\n      <g transform=\"translate(275.189347 239.238437)scale(0.1 -0.1)\">\n       <use xlink:href=\"#DejaVuSans-52\"/>\n       <use x=\"63.623047\" xlink:href=\"#DejaVuSans-46\"/>\n       <use x=\"95.410156\" xlink:href=\"#DejaVuSans-48\"/>\n      </g>\n     </g>\n    </g>\n    <g id=\"xtick_8\">\n     <g id=\"line2d_8\">\n      <g>\n       <use style=\"stroke:#000000;stroke-width:0.8;\" x=\"321.186364\" xlink:href=\"#m8fe071851e\" y=\"224.64\"/>\n      </g>\n     </g>\n     <g id=\"text_8\">\n      <!-- 4.5 -->\n      <g transform=\"translate(313.234801 239.238437)scale(0.1 -0.1)\">\n       <use xlink:href=\"#DejaVuSans-52\"/>\n       <use x=\"63.623047\" xlink:href=\"#DejaVuSans-46\"/>\n       <use x=\"95.410156\" xlink:href=\"#DejaVuSans-53\"/>\n      </g>\n     </g>\n    </g>\n    <g id=\"xtick_9\">\n     <g id=\"line2d_9\">\n      <g>\n       <use style=\"stroke:#000000;stroke-width:0.8;\" x=\"359.231818\" xlink:href=\"#m8fe071851e\" y=\"224.64\"/>\n      </g>\n     </g>\n     <g id=\"text_9\">\n      <!-- 5.0 -->\n      <g transform=\"translate(351.280256 239.238437)scale(0.1 -0.1)\">\n       <use xlink:href=\"#DejaVuSans-53\"/>\n       <use x=\"63.623047\" xlink:href=\"#DejaVuSans-46\"/>\n       <use x=\"95.410156\" xlink:href=\"#DejaVuSans-48\"/>\n      </g>\n     </g>\n    </g>\n   </g>\n   <g id=\"matplotlib.axis_2\">\n    <g id=\"ytick_1\">\n     <g id=\"line2d_10\">\n      <defs>\n       <path d=\"M 0 0 \nL -3.5 0 \n\" id=\"m9007a6660b\" style=\"stroke:#000000;stroke-width:0.8;\"/>\n      </defs>\n      <g>\n       <use style=\"stroke:#000000;stroke-width:0.8;\" x=\"39.65\" xlink:href=\"#m9007a6660b\" y=\"214.819639\"/>\n      </g>\n     </g>\n     <g id=\"text_10\">\n      <!-- 0 -->\n      <g transform=\"translate(26.2875 218.618858)scale(0.1 -0.1)\">\n       <use xlink:href=\"#DejaVuSans-48\"/>\n      </g>\n     </g>\n    </g>\n    <g id=\"ytick_2\">\n     <g id=\"line2d_11\">\n      <g>\n       <use style=\"stroke:#000000;stroke-width:0.8;\" x=\"39.65\" xlink:href=\"#m9007a6660b\" y=\"183.181879\"/>\n      </g>\n     </g>\n     <g id=\"text_11\">\n      <!-- 500 -->\n      <g transform=\"translate(13.5625 186.981097)scale(0.1 -0.1)\">\n       <use xlink:href=\"#DejaVuSans-53\"/>\n       <use x=\"63.623047\" xlink:href=\"#DejaVuSans-48\"/>\n       <use x=\"127.246094\" xlink:href=\"#DejaVuSans-48\"/>\n      </g>\n     </g>\n    </g>\n    <g id=\"ytick_3\">\n     <g id=\"line2d_12\">\n      <g>\n       <use style=\"stroke:#000000;stroke-width:0.8;\" x=\"39.65\" xlink:href=\"#m9007a6660b\" y=\"151.544118\"/>\n      </g>\n     </g>\n     <g id=\"text_12\">\n      <!-- 1000 -->\n      <g transform=\"translate(7.2 155.343337)scale(0.1 -0.1)\">\n       <use xlink:href=\"#DejaVuSans-49\"/>\n       <use x=\"63.623047\" xlink:href=\"#DejaVuSans-48\"/>\n       <use x=\"127.246094\" xlink:href=\"#DejaVuSans-48\"/>\n       <use x=\"190.869141\" xlink:href=\"#DejaVuSans-48\"/>\n      </g>\n     </g>\n    </g>\n    <g id=\"ytick_4\">\n     <g id=\"line2d_13\">\n      <g>\n       <use style=\"stroke:#000000;stroke-width:0.8;\" x=\"39.65\" xlink:href=\"#m9007a6660b\" y=\"119.906358\"/>\n      </g>\n     </g>\n     <g id=\"text_13\">\n      <!-- 1500 -->\n      <g transform=\"translate(7.2 123.705577)scale(0.1 -0.1)\">\n       <use xlink:href=\"#DejaVuSans-49\"/>\n       <use x=\"63.623047\" xlink:href=\"#DejaVuSans-53\"/>\n       <use x=\"127.246094\" xlink:href=\"#DejaVuSans-48\"/>\n       <use x=\"190.869141\" xlink:href=\"#DejaVuSans-48\"/>\n      </g>\n     </g>\n    </g>\n    <g id=\"ytick_5\">\n     <g id=\"line2d_14\">\n      <g>\n       <use style=\"stroke:#000000;stroke-width:0.8;\" x=\"39.65\" xlink:href=\"#m9007a6660b\" y=\"88.268597\"/>\n      </g>\n     </g>\n     <g id=\"text_14\">\n      <!-- 2000 -->\n      <g transform=\"translate(7.2 92.067816)scale(0.1 -0.1)\">\n       <use xlink:href=\"#DejaVuSans-50\"/>\n       <use x=\"63.623047\" xlink:href=\"#DejaVuSans-48\"/>\n       <use x=\"127.246094\" xlink:href=\"#DejaVuSans-48\"/>\n       <use x=\"190.869141\" xlink:href=\"#DejaVuSans-48\"/>\n      </g>\n     </g>\n    </g>\n    <g id=\"ytick_6\">\n     <g id=\"line2d_15\">\n      <g>\n       <use style=\"stroke:#000000;stroke-width:0.8;\" x=\"39.65\" xlink:href=\"#m9007a6660b\" y=\"56.630837\"/>\n      </g>\n     </g>\n     <g id=\"text_15\">\n      <!-- 2500 -->\n      <g transform=\"translate(7.2 60.430056)scale(0.1 -0.1)\">\n       <use xlink:href=\"#DejaVuSans-50\"/>\n       <use x=\"63.623047\" xlink:href=\"#DejaVuSans-53\"/>\n       <use x=\"127.246094\" xlink:href=\"#DejaVuSans-48\"/>\n       <use x=\"190.869141\" xlink:href=\"#DejaVuSans-48\"/>\n      </g>\n     </g>\n    </g>\n    <g id=\"ytick_7\">\n     <g id=\"line2d_16\">\n      <g>\n       <use style=\"stroke:#000000;stroke-width:0.8;\" x=\"39.65\" xlink:href=\"#m9007a6660b\" y=\"24.993076\"/>\n      </g>\n     </g>\n     <g id=\"text_16\">\n      <!-- 3000 -->\n      <g transform=\"translate(7.2 28.792295)scale(0.1 -0.1)\">\n       <use xlink:href=\"#DejaVuSans-51\"/>\n       <use x=\"63.623047\" xlink:href=\"#DejaVuSans-48\"/>\n       <use x=\"127.246094\" xlink:href=\"#DejaVuSans-48\"/>\n       <use x=\"190.869141\" xlink:href=\"#DejaVuSans-48\"/>\n      </g>\n     </g>\n    </g>\n   </g>\n   <g id=\"line2d_17\">\n    <path clip-path=\"url(#p821f4406fd)\" d=\"M 54.868182 214.756364 \nL 88.686364 214.42177 \nL 122.504545 213.298154 \nL 156.322727 210.443212 \nL 190.140909 204.355025 \nL 223.959091 192.840374 \nL 257.777273 172.883072 \nL 291.595455 140.512284 \nL 325.413636 90.670857 \nL 359.231818 17.083636 \n\" style=\"fill:none;stroke:#1f77b4;stroke-linecap:square;stroke-width:1.5;\"/>\n   </g>\n   <g id=\"patch_3\">\n    <path d=\"M 39.65 224.64 \nL 39.65 7.2 \n\" style=\"fill:none;stroke:#000000;stroke-linecap:square;stroke-linejoin:miter;stroke-width:0.8;\"/>\n   </g>\n   <g id=\"patch_4\">\n    <path d=\"M 374.45 224.64 \nL 374.45 7.2 \n\" style=\"fill:none;stroke:#000000;stroke-linecap:square;stroke-linejoin:miter;stroke-width:0.8;\"/>\n   </g>\n   <g id=\"patch_5\">\n    <path d=\"M 39.65 224.64 \nL 374.45 224.64 \n\" style=\"fill:none;stroke:#000000;stroke-linecap:square;stroke-linejoin:miter;stroke-width:0.8;\"/>\n   </g>\n   <g id=\"patch_6\">\n    <path d=\"M 39.65 7.2 \nL 374.45 7.2 \n\" style=\"fill:none;stroke:#000000;stroke-linecap:square;stroke-linejoin:miter;stroke-width:0.8;\"/>\n   </g>\n  </g>\n </g>\n <defs>\n  <clipPath id=\"p821f4406fd\">\n   <rect height=\"217.44\" width=\"334.8\" x=\"39.65\" y=\"7.2\"/>\n  </clipPath>\n </defs>\n</svg>\n",
      "image/png": "[encoded data removed]"
     },
     "metadata": {
      "needs_background": "light"
     }
    }
   ],
   "source": [
    "# FUNCTIONAL\n",
    "plt.plot(x, y)"
   ]
  },
  {
   "cell_type": "code",
   "execution_count": 98,
   "metadata": {},
   "outputs": [
    {
     "output_type": "display_data",
     "data": {
      "text/plain": "<Figure size 432x288 with 1 Axes>",
      "image/svg+xml": "<?xml version=\"1.0\" encoding=\"utf-8\" standalone=\"no\"?>\n<!DOCTYPE svg PUBLIC \"-//W3C//DTD SVG 1.1//EN\"\n  \"http://www.w3.org/Graphics/SVG/1.1/DTD/svg11.dtd\">\n<!-- Created with matplotlib (https://matplotlib.org/) -->\n<svg height=\"248.518125pt\" version=\"1.1\" viewBox=\"0 0 381.65 248.518125\" width=\"381.65pt\" xmlns=\"http://www.w3.org/2000/svg\" xmlns:xlink=\"http://www.w3.org/1999/xlink\">\n <defs>\n  <style type=\"text/css\">\n*{stroke-linecap:butt;stroke-linejoin:round;}\n  </style>\n </defs>\n <g id=\"figure_1\">\n  <g id=\"patch_1\">\n   <path d=\"M -0 248.518125 \nL 381.65 248.518125 \nL 381.65 0 \nL -0 0 \nz\n\" style=\"fill:none;\"/>\n  </g>\n  <g id=\"axes_1\">\n   <g id=\"patch_2\">\n    <path d=\"M 39.65 224.64 \nL 374.45 224.64 \nL 374.45 7.2 \nL 39.65 7.2 \nz\n\" style=\"fill:#ffffff;\"/>\n   </g>\n   <g id=\"matplotlib.axis_1\">\n    <g id=\"xtick_1\">\n     <g id=\"line2d_1\">\n      <defs>\n       <path d=\"M 0 0 \nL 0 3.5 \n\" id=\"mb146037192\" style=\"stroke:#000000;stroke-width:0.8;\"/>\n      </defs>\n      <g>\n       <use style=\"stroke:#000000;stroke-width:0.8;\" x=\"54.868182\" xlink:href=\"#mb146037192\" y=\"224.64\"/>\n      </g>\n     </g>\n     <g id=\"text_1\">\n      <!-- 1.0 -->\n      <defs>\n       <path d=\"M 12.40625 8.296875 \nL 28.515625 8.296875 \nL 28.515625 63.921875 \nL 10.984375 60.40625 \nL 10.984375 69.390625 \nL 28.421875 72.90625 \nL 38.28125 72.90625 \nL 38.28125 8.296875 \nL 54.390625 8.296875 \nL 54.390625 0 \nL 12.40625 0 \nz\n\" id=\"DejaVuSans-49\"/>\n       <path d=\"M 10.6875 12.40625 \nL 21 12.40625 \nL 21 0 \nL 10.6875 0 \nz\n\" id=\"DejaVuSans-46\"/>\n       <path d=\"M 31.78125 66.40625 \nQ 24.171875 66.40625 20.328125 58.90625 \nQ 16.5 51.421875 16.5 36.375 \nQ 16.5 21.390625 20.328125 13.890625 \nQ 24.171875 6.390625 31.78125 6.390625 \nQ 39.453125 6.390625 43.28125 13.890625 \nQ 47.125 21.390625 47.125 36.375 \nQ 47.125 51.421875 43.28125 58.90625 \nQ 39.453125 66.40625 31.78125 66.40625 \nz\nM 31.78125 74.21875 \nQ 44.046875 74.21875 50.515625 64.515625 \nQ 56.984375 54.828125 56.984375 36.375 \nQ 56.984375 17.96875 50.515625 8.265625 \nQ 44.046875 -1.421875 31.78125 -1.421875 \nQ 19.53125 -1.421875 13.0625 8.265625 \nQ 6.59375 17.96875 6.59375 36.375 \nQ 6.59375 54.828125 13.0625 64.515625 \nQ 19.53125 74.21875 31.78125 74.21875 \nz\n\" id=\"DejaVuSans-48\"/>\n      </defs>\n      <g transform=\"translate(46.916619 239.238437)scale(0.1 -0.1)\">\n       <use xlink:href=\"#DejaVuSans-49\"/>\n       <use x=\"63.623047\" xlink:href=\"#DejaVuSans-46\"/>\n       <use x=\"95.410156\" xlink:href=\"#DejaVuSans-48\"/>\n      </g>\n     </g>\n    </g>\n    <g id=\"xtick_2\">\n     <g id=\"line2d_2\">\n      <g>\n       <use style=\"stroke:#000000;stroke-width:0.8;\" x=\"92.913636\" xlink:href=\"#mb146037192\" y=\"224.64\"/>\n      </g>\n     </g>\n     <g id=\"text_2\">\n      <!-- 1.5 -->\n      <defs>\n       <path d=\"M 10.796875 72.90625 \nL 49.515625 72.90625 \nL 49.515625 64.59375 \nL 19.828125 64.59375 \nL 19.828125 46.734375 \nQ 21.96875 47.46875 24.109375 47.828125 \nQ 26.265625 48.1875 28.421875 48.1875 \nQ 40.625 48.1875 47.75 41.5 \nQ 54.890625 34.8125 54.890625 23.390625 \nQ 54.890625 11.625 47.5625 5.09375 \nQ 40.234375 -1.421875 26.90625 -1.421875 \nQ 22.3125 -1.421875 17.546875 -0.640625 \nQ 12.796875 0.140625 7.71875 1.703125 \nL 7.71875 11.625 \nQ 12.109375 9.234375 16.796875 8.0625 \nQ 21.484375 6.890625 26.703125 6.890625 \nQ 35.15625 6.890625 40.078125 11.328125 \nQ 45.015625 15.765625 45.015625 23.390625 \nQ 45.015625 31 40.078125 35.4375 \nQ 35.15625 39.890625 26.703125 39.890625 \nQ 22.75 39.890625 18.8125 39.015625 \nQ 14.890625 38.140625 10.796875 36.28125 \nz\n\" id=\"DejaVuSans-53\"/>\n      </defs>\n      <g transform=\"translate(84.962074 239.238437)scale(0.1 -0.1)\">\n       <use xlink:href=\"#DejaVuSans-49\"/>\n       <use x=\"63.623047\" xlink:href=\"#DejaVuSans-46\"/>\n       <use x=\"95.410156\" xlink:href=\"#DejaVuSans-53\"/>\n      </g>\n     </g>\n    </g>\n    <g id=\"xtick_3\">\n     <g id=\"line2d_3\">\n      <g>\n       <use style=\"stroke:#000000;stroke-width:0.8;\" x=\"130.959091\" xlink:href=\"#mb146037192\" y=\"224.64\"/>\n      </g>\n     </g>\n     <g id=\"text_3\">\n      <!-- 2.0 -->\n      <defs>\n       <path d=\"M 19.1875 8.296875 \nL 53.609375 8.296875 \nL 53.609375 0 \nL 7.328125 0 \nL 7.328125 8.296875 \nQ 12.9375 14.109375 22.625 23.890625 \nQ 32.328125 33.6875 34.8125 36.53125 \nQ 39.546875 41.84375 41.421875 45.53125 \nQ 43.3125 49.21875 43.3125 52.78125 \nQ 43.3125 58.59375 39.234375 62.25 \nQ 35.15625 65.921875 28.609375 65.921875 \nQ 23.96875 65.921875 18.8125 64.3125 \nQ 13.671875 62.703125 7.8125 59.421875 \nL 7.8125 69.390625 \nQ 13.765625 71.78125 18.9375 73 \nQ 24.125 74.21875 28.421875 74.21875 \nQ 39.75 74.21875 46.484375 68.546875 \nQ 53.21875 62.890625 53.21875 53.421875 \nQ 53.21875 48.921875 51.53125 44.890625 \nQ 49.859375 40.875 45.40625 35.40625 \nQ 44.1875 33.984375 37.640625 27.21875 \nQ 31.109375 20.453125 19.1875 8.296875 \nz\n\" id=\"DejaVuSans-50\"/>\n      </defs>\n      <g transform=\"translate(123.007528 239.238437)scale(0.1 -0.1)\">\n       <use xlink:href=\"#DejaVuSans-50\"/>\n       <use x=\"63.623047\" xlink:href=\"#DejaVuSans-46\"/>\n       <use x=\"95.410156\" xlink:href=\"#DejaVuSans-48\"/>\n      </g>\n     </g>\n    </g>\n    <g id=\"xtick_4\">\n     <g id=\"line2d_4\">\n      <g>\n       <use style=\"stroke:#000000;stroke-width:0.8;\" x=\"169.004545\" xlink:href=\"#mb146037192\" y=\"224.64\"/>\n      </g>\n     </g>\n     <g id=\"text_4\">\n      <!-- 2.5 -->\n      <g transform=\"translate(161.052983 239.238437)scale(0.1 -0.1)\">\n       <use xlink:href=\"#DejaVuSans-50\"/>\n       <use x=\"63.623047\" xlink:href=\"#DejaVuSans-46\"/>\n       <use x=\"95.410156\" xlink:href=\"#DejaVuSans-53\"/>\n      </g>\n     </g>\n    </g>\n    <g id=\"xtick_5\">\n     <g id=\"line2d_5\">\n      <g>\n       <use style=\"stroke:#000000;stroke-width:0.8;\" x=\"207.05\" xlink:href=\"#mb146037192\" y=\"224.64\"/>\n      </g>\n     </g>\n     <g id=\"text_5\">\n      <!-- 3.0 -->\n      <defs>\n       <path d=\"M 40.578125 39.3125 \nQ 47.65625 37.796875 51.625 33 \nQ 55.609375 28.21875 55.609375 21.1875 \nQ 55.609375 10.40625 48.1875 4.484375 \nQ 40.765625 -1.421875 27.09375 -1.421875 \nQ 22.515625 -1.421875 17.65625 -0.515625 \nQ 12.796875 0.390625 7.625 2.203125 \nL 7.625 11.71875 \nQ 11.71875 9.328125 16.59375 8.109375 \nQ 21.484375 6.890625 26.8125 6.890625 \nQ 36.078125 6.890625 40.9375 10.546875 \nQ 45.796875 14.203125 45.796875 21.1875 \nQ 45.796875 27.640625 41.28125 31.265625 \nQ 36.765625 34.90625 28.71875 34.90625 \nL 20.21875 34.90625 \nL 20.21875 43.015625 \nL 29.109375 43.015625 \nQ 36.375 43.015625 40.234375 45.921875 \nQ 44.09375 48.828125 44.09375 54.296875 \nQ 44.09375 59.90625 40.109375 62.90625 \nQ 36.140625 65.921875 28.71875 65.921875 \nQ 24.65625 65.921875 20.015625 65.03125 \nQ 15.375 64.15625 9.8125 62.3125 \nL 9.8125 71.09375 \nQ 15.4375 72.65625 20.34375 73.4375 \nQ 25.25 74.21875 29.59375 74.21875 \nQ 40.828125 74.21875 47.359375 69.109375 \nQ 53.90625 64.015625 53.90625 55.328125 \nQ 53.90625 49.265625 50.4375 45.09375 \nQ 46.96875 40.921875 40.578125 39.3125 \nz\n\" id=\"DejaVuSans-51\"/>\n      </defs>\n      <g transform=\"translate(199.098438 239.238437)scale(0.1 -0.1)\">\n       <use xlink:href=\"#DejaVuSans-51\"/>\n       <use x=\"63.623047\" xlink:href=\"#DejaVuSans-46\"/>\n       <use x=\"95.410156\" xlink:href=\"#DejaVuSans-48\"/>\n      </g>\n     </g>\n    </g>\n    <g id=\"xtick_6\">\n     <g id=\"line2d_6\">\n      <g>\n       <use style=\"stroke:#000000;stroke-width:0.8;\" x=\"245.095455\" xlink:href=\"#mb146037192\" y=\"224.64\"/>\n      </g>\n     </g>\n     <g id=\"text_6\">\n      <!-- 3.5 -->\n      <g transform=\"translate(237.143892 239.238437)scale(0.1 -0.1)\">\n       <use xlink:href=\"#DejaVuSans-51\"/>\n       <use x=\"63.623047\" xlink:href=\"#DejaVuSans-46\"/>\n       <use x=\"95.410156\" xlink:href=\"#DejaVuSans-53\"/>\n      </g>\n     </g>\n    </g>\n    <g id=\"xtick_7\">\n     <g id=\"line2d_7\">\n      <g>\n       <use style=\"stroke:#000000;stroke-width:0.8;\" x=\"283.140909\" xlink:href=\"#mb146037192\" y=\"224.64\"/>\n      </g>\n     </g>\n     <g id=\"text_7\">\n      <!-- 4.0 -->\n      <defs>\n       <path d=\"M 37.796875 64.3125 \nL 12.890625 25.390625 \nL 37.796875 25.390625 \nz\nM 35.203125 72.90625 \nL 47.609375 72.90625 \nL 47.609375 25.390625 \nL 58.015625 25.390625 \nL 58.015625 17.1875 \nL 47.609375 17.1875 \nL 47.609375 0 \nL 37.796875 0 \nL 37.796875 17.1875 \nL 4.890625 17.1875 \nL 4.890625 26.703125 \nz\n\" id=\"DejaVuSans-52\"/>\n      </defs>\n      <g transform=\"translate(275.189347 239.238437)scale(0.1 -0.1)\">\n       <use xlink:href=\"#DejaVuSans-52\"/>\n       <use x=\"63.623047\" xlink:href=\"#DejaVuSans-46\"/>\n       <use x=\"95.410156\" xlink:href=\"#DejaVuSans-48\"/>\n      </g>\n     </g>\n    </g>\n    <g id=\"xtick_8\">\n     <g id=\"line2d_8\">\n      <g>\n       <use style=\"stroke:#000000;stroke-width:0.8;\" x=\"321.186364\" xlink:href=\"#mb146037192\" y=\"224.64\"/>\n      </g>\n     </g>\n     <g id=\"text_8\">\n      <!-- 4.5 -->\n      <g transform=\"translate(313.234801 239.238437)scale(0.1 -0.1)\">\n       <use xlink:href=\"#DejaVuSans-52\"/>\n       <use x=\"63.623047\" xlink:href=\"#DejaVuSans-46\"/>\n       <use x=\"95.410156\" xlink:href=\"#DejaVuSans-53\"/>\n      </g>\n     </g>\n    </g>\n    <g id=\"xtick_9\">\n     <g id=\"line2d_9\">\n      <g>\n       <use style=\"stroke:#000000;stroke-width:0.8;\" x=\"359.231818\" xlink:href=\"#mb146037192\" y=\"224.64\"/>\n      </g>\n     </g>\n     <g id=\"text_9\">\n      <!-- 5.0 -->\n      <g transform=\"translate(351.280256 239.238437)scale(0.1 -0.1)\">\n       <use xlink:href=\"#DejaVuSans-53\"/>\n       <use x=\"63.623047\" xlink:href=\"#DejaVuSans-46\"/>\n       <use x=\"95.410156\" xlink:href=\"#DejaVuSans-48\"/>\n      </g>\n     </g>\n    </g>\n   </g>\n   <g id=\"matplotlib.axis_2\">\n    <g id=\"ytick_1\">\n     <g id=\"line2d_10\">\n      <defs>\n       <path d=\"M 0 0 \nL -3.5 0 \n\" id=\"mb831287920\" style=\"stroke:#000000;stroke-width:0.8;\"/>\n      </defs>\n      <g>\n       <use style=\"stroke:#000000;stroke-width:0.8;\" x=\"39.65\" xlink:href=\"#mb831287920\" y=\"214.819639\"/>\n      </g>\n     </g>\n     <g id=\"text_10\">\n      <!-- 0 -->\n      <g transform=\"translate(26.2875 218.618858)scale(0.1 -0.1)\">\n       <use xlink:href=\"#DejaVuSans-48\"/>\n      </g>\n     </g>\n    </g>\n    <g id=\"ytick_2\">\n     <g id=\"line2d_11\">\n      <g>\n       <use style=\"stroke:#000000;stroke-width:0.8;\" x=\"39.65\" xlink:href=\"#mb831287920\" y=\"183.181879\"/>\n      </g>\n     </g>\n     <g id=\"text_11\">\n      <!-- 500 -->\n      <g transform=\"translate(13.5625 186.981097)scale(0.1 -0.1)\">\n       <use xlink:href=\"#DejaVuSans-53\"/>\n       <use x=\"63.623047\" xlink:href=\"#DejaVuSans-48\"/>\n       <use x=\"127.246094\" xlink:href=\"#DejaVuSans-48\"/>\n      </g>\n     </g>\n    </g>\n    <g id=\"ytick_3\">\n     <g id=\"line2d_12\">\n      <g>\n       <use style=\"stroke:#000000;stroke-width:0.8;\" x=\"39.65\" xlink:href=\"#mb831287920\" y=\"151.544118\"/>\n      </g>\n     </g>\n     <g id=\"text_12\">\n      <!-- 1000 -->\n      <g transform=\"translate(7.2 155.343337)scale(0.1 -0.1)\">\n       <use xlink:href=\"#DejaVuSans-49\"/>\n       <use x=\"63.623047\" xlink:href=\"#DejaVuSans-48\"/>\n       <use x=\"127.246094\" xlink:href=\"#DejaVuSans-48\"/>\n       <use x=\"190.869141\" xlink:href=\"#DejaVuSans-48\"/>\n      </g>\n     </g>\n    </g>\n    <g id=\"ytick_4\">\n     <g id=\"line2d_13\">\n      <g>\n       <use style=\"stroke:#000000;stroke-width:0.8;\" x=\"39.65\" xlink:href=\"#mb831287920\" y=\"119.906358\"/>\n      </g>\n     </g>\n     <g id=\"text_13\">\n      <!-- 1500 -->\n      <g transform=\"translate(7.2 123.705577)scale(0.1 -0.1)\">\n       <use xlink:href=\"#DejaVuSans-49\"/>\n       <use x=\"63.623047\" xlink:href=\"#DejaVuSans-53\"/>\n       <use x=\"127.246094\" xlink:href=\"#DejaVuSans-48\"/>\n       <use x=\"190.869141\" xlink:href=\"#DejaVuSans-48\"/>\n      </g>\n     </g>\n    </g>\n    <g id=\"ytick_5\">\n     <g id=\"line2d_14\">\n      <g>\n       <use style=\"stroke:#000000;stroke-width:0.8;\" x=\"39.65\" xlink:href=\"#mb831287920\" y=\"88.268597\"/>\n      </g>\n     </g>\n     <g id=\"text_14\">\n      <!-- 2000 -->\n      <g transform=\"translate(7.2 92.067816)scale(0.1 -0.1)\">\n       <use xlink:href=\"#DejaVuSans-50\"/>\n       <use x=\"63.623047\" xlink:href=\"#DejaVuSans-48\"/>\n       <use x=\"127.246094\" xlink:href=\"#DejaVuSans-48\"/>\n       <use x=\"190.869141\" xlink:href=\"#DejaVuSans-48\"/>\n      </g>\n     </g>\n    </g>\n    <g id=\"ytick_6\">\n     <g id=\"line2d_15\">\n      <g>\n       <use style=\"stroke:#000000;stroke-width:0.8;\" x=\"39.65\" xlink:href=\"#mb831287920\" y=\"56.630837\"/>\n      </g>\n     </g>\n     <g id=\"text_15\">\n      <!-- 2500 -->\n      <g transform=\"translate(7.2 60.430056)scale(0.1 -0.1)\">\n       <use xlink:href=\"#DejaVuSans-50\"/>\n       <use x=\"63.623047\" xlink:href=\"#DejaVuSans-53\"/>\n       <use x=\"127.246094\" xlink:href=\"#DejaVuSans-48\"/>\n       <use x=\"190.869141\" xlink:href=\"#DejaVuSans-48\"/>\n      </g>\n     </g>\n    </g>\n    <g id=\"ytick_7\">\n     <g id=\"line2d_16\">\n      <g>\n       <use style=\"stroke:#000000;stroke-width:0.8;\" x=\"39.65\" xlink:href=\"#mb831287920\" y=\"24.993076\"/>\n      </g>\n     </g>\n     <g id=\"text_16\">\n      <!-- 3000 -->\n      <g transform=\"translate(7.2 28.792295)scale(0.1 -0.1)\">\n       <use xlink:href=\"#DejaVuSans-51\"/>\n       <use x=\"63.623047\" xlink:href=\"#DejaVuSans-48\"/>\n       <use x=\"127.246094\" xlink:href=\"#DejaVuSans-48\"/>\n       <use x=\"190.869141\" xlink:href=\"#DejaVuSans-48\"/>\n      </g>\n     </g>\n    </g>\n   </g>\n   <g id=\"line2d_17\">\n    <path clip-path=\"url(#pb0f0d7e3d1)\" d=\"M 54.868182 214.756364 \nL 88.686364 214.42177 \nL 122.504545 213.298154 \nL 156.322727 210.443212 \nL 190.140909 204.355025 \nL 223.959091 192.840374 \nL 257.777273 172.883072 \nL 291.595455 140.512284 \nL 325.413636 90.670857 \nL 359.231818 17.083636 \n\" style=\"fill:none;stroke:#1f77b4;stroke-linecap:square;stroke-width:1.5;\"/>\n   </g>\n   <g id=\"patch_3\">\n    <path d=\"M 39.65 224.64 \nL 39.65 7.2 \n\" style=\"fill:none;stroke:#000000;stroke-linecap:square;stroke-linejoin:miter;stroke-width:0.8;\"/>\n   </g>\n   <g id=\"patch_4\">\n    <path d=\"M 374.45 224.64 \nL 374.45 7.2 \n\" style=\"fill:none;stroke:#000000;stroke-linecap:square;stroke-linejoin:miter;stroke-width:0.8;\"/>\n   </g>\n   <g id=\"patch_5\">\n    <path d=\"M 39.65 224.64 \nL 374.45 224.64 \n\" style=\"fill:none;stroke:#000000;stroke-linecap:square;stroke-linejoin:miter;stroke-width:0.8;\"/>\n   </g>\n   <g id=\"patch_6\">\n    <path d=\"M 39.65 7.2 \nL 374.45 7.2 \n\" style=\"fill:none;stroke:#000000;stroke-linecap:square;stroke-linejoin:miter;stroke-width:0.8;\"/>\n   </g>\n  </g>\n </g>\n <defs>\n  <clipPath id=\"pb0f0d7e3d1\">\n   <rect height=\"217.44\" width=\"334.8\" x=\"39.65\" y=\"7.2\"/>\n  </clipPath>\n </defs>\n</svg>\n",
      "image/png": "[encoded data removed]"
     },
     "metadata": {
      "needs_background": "light"
     }
    }
   ],
   "source": [
    "# And here, we obtain a statistical curve from our mean deviation for values of x to the increment in value of y. In case you're not in any interactive code editor, you can just go ahead and use plt.show() like\n",
    "plt.plot(x, y)\n",
    "plt.show()"
   ]
  },
  {
   "cell_type": "code",
   "execution_count": 99,
   "metadata": {},
   "outputs": [],
   "source": [
    "# And here, we have it. Although it's pointless in case you're using jupyter or these code editors. So, there you have it, depending your needs, you can go for a selective preference. The basic difference you can infer from this would be - typing 'hello' in a python prompt shell, vs actually asking python to print the string using print('hello') function. Just an analogy."
   ]
  },
  {
   "cell_type": "code",
   "execution_count": null,
   "metadata": {},
   "outputs": [],
   "source": [
    "# For a quick eample, I can show you the same demonstration on terminal, and how that'll result."
   ]
  }
 ],
 "metadata": {
  "language_info": {
   "codemirror_mode": {
    "name": "ipython",
    "version": 3
   },
   "file_extension": ".py",
   "mimetype": "text/x-python",
   "name": "python",
   "nbconvert_exporter": "python",
   "pygments_lexer": "ipython3",
   "version": "3.7.6-final"
  },
  "orig_nbformat": 2,
  "kernelspec": {
   "name": "python3",
   "display_name": "Python 3"
  }
 },
 "nbformat": 4,
 "nbformat_minor": 2
}